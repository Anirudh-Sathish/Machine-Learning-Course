{
 "cells": [
  {
   "attachments": {},
   "cell_type": "markdown",
   "metadata": {},
   "source": [
    "#### Day 4 \n",
    "_Anirudh Sathish CS20B1125_\n",
    "###### Perform LED digit classification using Naive bayes classifier  in python."
   ]
  },
  {
   "cell_type": "code",
   "execution_count": 477,
   "metadata": {},
   "outputs": [],
   "source": [
    "#  Importing neccesary libraries \n",
    "import pandas as pd\n",
    "import numpy as np\n",
    "import random \n",
    "import copy \n",
    "from sklearn.utils import shuffle"
   ]
  },
  {
   "cell_type": "code",
   "execution_count": 478,
   "metadata": {},
   "outputs": [],
   "source": [
    "# function to give accuracyScore of prediction \n",
    "def accuracyScore(Y_predicted,Y_true):\n",
    "    positive = 0\n",
    "    total = 0 \n",
    "    for i in range(len(Y_predicted)):  \n",
    "        if(Y_predicted.iloc[i][0] == Y_true.iloc[i][0]):\n",
    "            positive+=1\n",
    "        total+=1\n",
    "    pred = positive/total\n",
    "    return pred "
   ]
  },
  {
   "cell_type": "code",
   "execution_count": 479,
   "metadata": {},
   "outputs": [],
   "source": [
    "led = pd.read_csv(\"led.csv\")"
   ]
  },
  {
   "cell_type": "code",
   "execution_count": 480,
   "metadata": {},
   "outputs": [
    {
     "name": "stdout",
     "output_type": "stream",
     "text": [
      "   s1  s2  s3  s4  s5  s6  s7  Digit-ID\n",
      "0   0   1   1   0   0   0   0         1\n",
      "1   1   1   0   1   1   0   1         2\n",
      "2   1   1   1   1   0   0   1         3\n",
      "3   0   1   1   0   0   1   1         4\n",
      "4   1   0   1   1   0   1   1         5\n",
      "5   0   0   1   1   1   1   1         6\n",
      "6   1   1   1   0   0   0   0         7\n",
      "7   1   1   1   1   1   1   1         8\n",
      "8   1   1   1   0   0   1   1         9\n",
      "9   1   1   1   1   1   1   0         0\n"
     ]
    }
   ],
   "source": [
    "print(led)"
   ]
  },
  {
   "cell_type": "code",
   "execution_count": 481,
   "metadata": {},
   "outputs": [],
   "source": [
    "# Now Generate training data \n",
    "# Let us set a certain noise level \n",
    "noise_level = 0.1\n",
    "# This means that with a probability 0.1 the digit might flip \n",
    "\n",
    "# Let us augument 20 values for each digit \n",
    "# This is including its original value  \n",
    "\n",
    "#Sepearate out the input and the ouput parts of the led\n",
    "led_output = led.iloc[:,-1]\n",
    "input_bool = [True for i in range(7)]\n",
    "input_bool.append(False)\n",
    "led_input = led.iloc[:,input_bool]\n"
   ]
  },
  {
   "cell_type": "code",
   "execution_count": 482,
   "metadata": {},
   "outputs": [],
   "source": [
    "led_save = copy.deepcopy(led)"
   ]
  },
  {
   "cell_type": "code",
   "execution_count": 483,
   "metadata": {},
   "outputs": [],
   "source": [
    "def augument(number,led,led_output):\n",
    "    dataAugumentationValue = number\n",
    "    for t in range(len(led_output)):\n",
    "        resu = []\n",
    "        dig1 = led_input.iloc[t]\n",
    "        for digit in dig1:\n",
    "            myValue = str(digit)\n",
    "            notMyValue = str(int(not(digit)))\n",
    "            combination = notMyValue+myValue\n",
    "            resultant = random.choices(combination, cum_weights=(noise_level, 1.00), k = dataAugumentationValue)\n",
    "            resultant_int = [int(d) for d in resultant]\n",
    "            resu.append(resultant_int)\n",
    "        output = [led_output.iloc[t] for i in range(dataAugumentationValue)]\n",
    "        resu.append(output)\n",
    "        res = np.array(resu).transpose()\n",
    "        augumented_dig = pd.DataFrame(res)\n",
    "        augumented_dig.columns = led.columns\n",
    "        led = pd.concat([led,augumented_dig])\n",
    "    return led"
   ]
  },
  {
   "cell_type": "code",
   "execution_count": 484,
   "metadata": {},
   "outputs": [
    {
     "name": "stdout",
     "output_type": "stream",
     "text": [
      "(200, 8)\n"
     ]
    }
   ],
   "source": [
    "led = augument(19,led,led_output)\n",
    "print(led.shape)"
   ]
  },
  {
   "cell_type": "code",
   "execution_count": 485,
   "metadata": {},
   "outputs": [],
   "source": [
    "led_test = shuffle(augument(5,led_save,led_output),random_state=20)\n",
    "led_test_inp = led_test.iloc[:,input_bool]\n",
    "led_test_op = led_test.iloc[:,-1]"
   ]
  },
  {
   "cell_type": "code",
   "execution_count": 486,
   "metadata": {},
   "outputs": [
    {
     "name": "stdout",
     "output_type": "stream",
     "text": [
      "(200, 8)\n"
     ]
    }
   ],
   "source": [
    "# Now led contains our training set values\n",
    "# Let us train our dataset on naive Baiyes classifier \n",
    "print(led.shape)"
   ]
  },
  {
   "cell_type": "code",
   "execution_count": 487,
   "metadata": {},
   "outputs": [],
   "source": [
    "# Now let us shuffle our dataset \n",
    "shuffled_train_led = shuffle(led,random_state=20)"
   ]
  },
  {
   "cell_type": "code",
   "execution_count": 488,
   "metadata": {},
   "outputs": [
    {
     "name": "stdout",
     "output_type": "stream",
     "text": [
      "(200, 8)\n"
     ]
    }
   ],
   "source": [
    "# Now let us perform naive bayes classification training on this \n",
    "print(shuffled_train_led.shape)"
   ]
  },
  {
   "cell_type": "code",
   "execution_count": 489,
   "metadata": {},
   "outputs": [],
   "source": [
    "# Create a classifier class \n",
    "class NaiveBayesClassifier():\n",
    "    def __init__(self):\n",
    "        self.OutputLabelsHash = {}\n",
    "        self.attributesHash = {}\n",
    "    def convertFeatureSet(self,data):\n",
    "        labels = set(data)\n",
    "        values = []\n",
    "        for i in range(len(labels)):\n",
    "            values.append(0)\n",
    "        resultant = {}\n",
    "        for label in labels:\n",
    "            for value in values:\n",
    "                resultant[label] = value\n",
    "                values.remove(value)\n",
    "                break\n",
    "        return resultant\n",
    "    def getProb(self):\n",
    "        pOfDigits = self.convertFeatureSet(self.OutputLabels)\n",
    "        for i  in self.OutputLabels:\n",
    "            pOfDigits[i] +=1\n",
    "        self.digitCount = copy.deepcopy(pOfDigits)\n",
    "        for i in range(len(pOfDigits)):\n",
    "            pOfDigits[i] = pOfDigits[i]/len(self.OutputLabels)\n",
    "        return  pOfDigits\n",
    "    def giveTableAttributeKnowledge(self,digit):\n",
    "        # Now work with the input features\n",
    "\n",
    "    ## 10 -> The digit is obtained and the value was 0 \n",
    "        possible_values = [\"10\",\"11\"]\n",
    "        possiblity_Set = self.convertFeatureSet(possible_values)\n",
    "        #print(possiblity_Set)  \n",
    "        for i in range(self.inputFeatures.shape[1]):\n",
    "            # For s1,s2 and so on looping\n",
    "            count = 0\n",
    "            count_10 = 0 \n",
    "            count_11 = 0 \n",
    "            for j in self.inputFeatures.iloc[:,i]:\n",
    "                # For possiblity 10 i.e digit obtained and value was 0\n",
    "                # if obtained == 0 and output = digit\n",
    "                if(j == 0 and self.OutputLabels.iloc[count] == digit):\n",
    "                    count_10+=1\n",
    "                # For possiblity 11 i.e digit obtained and value was 0\n",
    "                # if obtained == 1 and output = digit\n",
    "                if(j == 1 and self.OutputLabels.iloc[count] == digit):\n",
    "                    count_11+=1\n",
    "                \n",
    "                count+=1\n",
    "            possiblity_Set[\"10\"] = round(((count_10+1)/(2+self.digitCount[digit])),2) \n",
    "            possiblity_Set[\"11\"] = round(((count_11+1)/(2+self.digitCount[digit])),2)  \n",
    "            string = \"s\"+str(i+1)\n",
    "            self.AttributesUnique[string] = copy.deepcopy(possiblity_Set)\n",
    "        self.Table[digit] = copy.deepcopy(self.AttributesUnique)\n",
    "    def fitData(self,features,Outputlabel):\n",
    "        # Make tables using these\n",
    "        self.inputFeatures = features\n",
    "        self.OutputLabels = Outputlabel\n",
    "        self.Table = self.convertFeatureSet(self.OutputLabels)\n",
    "        # Create the tables using dict\n",
    "        self.AttributesUnique = self.convertFeatureSet(self.inputFeatures)\n",
    "        # Later add for all digits\n",
    "        self.digitProbability = self.getProb()\n",
    "\n",
    "        #for all the digits find the table \n",
    "        for i in range(len(self.digitCount)): \n",
    "            self.giveTableAttributeKnowledge(i)\n",
    "        #The data is trained \n",
    "    def predictDigit(self,inputTuple):\n",
    "        # Given a pandas single tuple df , predict the value\n",
    "        numberWiseProb = self.convertFeatureSet(self.OutputLabels)\n",
    "        # Now find numberWise Probability\n",
    "        # for that iterate over the numbers \n",
    "        numbers = set(self.OutputLabels)\n",
    "        for number in numbers:\n",
    "            # find the probability for the tuple\n",
    "            #Iterate over each in tuple \n",
    "            prob_number = 1\n",
    "            for i in range(len(inputTuple)):\n",
    "                string = \"s\"+str(i+1)\n",
    "                numberString = \"1\"+str(inputTuple[i])\n",
    "                value = self.Table[number][string][numberString]\n",
    "                prob_element = value\n",
    "                prob_number*=prob_element\n",
    "            numberWiseProb[number] = prob_number\n",
    "        labelFinal = max(numberWiseProb, key=numberWiseProb.get)\n",
    "        return labelFinal\n",
    "    def predictData(self,input):\n",
    "        labels = []\n",
    "        input_tuple_header = input.columns\n",
    "        for i in range(input.shape[0]):\n",
    "            label = self.predictDigit(input.iloc[i])\n",
    "            labels.append(label)\n",
    "        labels = pd.DataFrame(labels)\n",
    "        return labels\n",
    "        \n",
    "        \n"
   ]
  },
  {
   "cell_type": "code",
   "execution_count": 490,
   "metadata": {},
   "outputs": [],
   "source": [
    "nB = NaiveBayesClassifier()\n",
    "nB.fitData(shuffled_train_led.iloc[:,input_bool],shuffled_train_led.iloc[:,-1])"
   ]
  },
  {
   "cell_type": "code",
   "execution_count": 491,
   "metadata": {},
   "outputs": [
    {
     "name": "stdout",
     "output_type": "stream",
     "text": [
      "    0\n",
      "0   5\n",
      "1   3\n",
      "2   2\n",
      "3   0\n",
      "4   0\n",
      "5   1\n",
      "6   0\n",
      "7   6\n",
      "8   5\n",
      "9   5\n",
      "10  8\n",
      "11  3\n",
      "12  4\n",
      "13  2\n",
      "14  9\n",
      "15  2\n",
      "16  4\n",
      "17  0\n",
      "18  4\n",
      "19  0\n",
      "20  5\n",
      "21  4\n",
      "22  1\n",
      "23  1\n",
      "24  3\n",
      "25  0\n",
      "26  0\n",
      "27  1\n",
      "28  4\n",
      "29  9\n",
      "30  0\n",
      "31  0\n",
      "32  1\n",
      "33  4\n",
      "34  7\n",
      "35  8\n",
      "36  8\n",
      "37  6\n",
      "38  7\n",
      "39  8\n",
      "40  8\n",
      "41  2\n",
      "42  2\n",
      "43  7\n",
      "44  5\n",
      "45  3\n",
      "46  7\n",
      "47  5\n",
      "48  5\n",
      "49  8\n",
      "50  7\n",
      "51  1\n",
      "52  3\n",
      "53  0\n",
      "54  0\n",
      "55  4\n",
      "56  5\n",
      "57  2\n",
      "58  1\n",
      "59  6\n"
     ]
    }
   ],
   "source": [
    "prediction = nB.predictData(led_test_inp)\n",
    "print(prediction)"
   ]
  },
  {
   "cell_type": "code",
   "execution_count": 492,
   "metadata": {},
   "outputs": [
    {
     "name": "stdout",
     "output_type": "stream",
     "text": [
      "0.7333333333333333\n"
     ]
    }
   ],
   "source": [
    "print(accuracyScore(prediction,led_test_op.to_frame()))"
   ]
  },
  {
   "cell_type": "code",
   "execution_count": 493,
   "metadata": {},
   "outputs": [],
   "source": [
    "def segmentDisplay(SegmentNo):\n",
    "    if SegmentNo[0] == 1 :\n",
    "        print(\" __ \")\n",
    "    else :\n",
    "        print(\"    \")\n",
    "\n",
    "    if SegmentNo[1] ==1 and SegmentNo[5] == 1 :\n",
    "        print(\"|  |\")\n",
    "    elif SegmentNo[1] == 0 and SegmentNo[5] == 1:\n",
    "        print(\"|   \")\n",
    "    elif SegmentNo[1] == 1 and SegmentNo[5] == 0:\n",
    "        print(\"   |\")\n",
    "    elif SegmentNo[1] == 0 and SegmentNo[5] == 0:\n",
    "        print(\"    \")\n",
    "    if SegmentNo[6] == 1 :\n",
    "        print(\" -- \")\n",
    "    else :\n",
    "        print(\"    \")\n",
    "\n",
    "    if SegmentNo[2] ==1 and SegmentNo[4] == 1 :\n",
    "        print(\"|  |\")\n",
    "    elif SegmentNo[2] == 0 and SegmentNo[4] == 1:\n",
    "        print(\"|   \")\n",
    "    elif SegmentNo[2] == 1 and SegmentNo[4] == 0:\n",
    "        print(\"   |\")\n",
    "    elif SegmentNo[2] == 0 and SegmentNo[4] == 0:\n",
    "        print(\"    \")\n",
    "\n",
    "    if SegmentNo[3] == 1 :\n",
    "        print(\" -- \")\n",
    "    else :\n",
    "        print(\"    \")\n",
    "def numberDisplay(number):\n",
    "    #Get tuple for the number from the correct result\n",
    "    for i in range(led_save.shape[0]):\n",
    "        if(led_save.iloc[:,-1][i] == number):\n",
    "            #fetch the tuple\n",
    "            tuple_val = led_save.iloc[:,input_bool].iloc[i]\n",
    "            segmentDisplay(tuple_val)\n",
    "            break\n"
   ]
  },
  {
   "cell_type": "code",
   "execution_count": 494,
   "metadata": {},
   "outputs": [
    {
     "name": "stdout",
     "output_type": "stream",
     "text": [
      "Faulty\n",
      " __ \n",
      "|   \n",
      " -- \n",
      "    \n",
      " -- \n",
      "Correction\n",
      " __ \n",
      "|   \n",
      " -- \n",
      "   |\n",
      " -- \n"
     ]
    }
   ],
   "source": [
    "# Testing out what might be a faulty case\n",
    "# picking a test input\n",
    "\n",
    "#Before correction\n",
    "print(\"Faulty\")\n",
    "lis = [1,0,0,1,0,1,1]\n",
    "segmentDisplay(lis)\n",
    "\n",
    "print(\"Correction\")\n",
    "liz = pd.DataFrame(lis)\n",
    "predictedNumber = nB.predictData(liz.transpose())\n",
    "numberDisplay(predictedNumber.iloc[0][0])"
   ]
  },
  {
   "cell_type": "code",
   "execution_count": null,
   "metadata": {},
   "outputs": [],
   "source": []
  }
 ],
 "metadata": {
  "kernelspec": {
   "display_name": "Python 3",
   "language": "python",
   "name": "python3"
  },
  "language_info": {
   "codemirror_mode": {
    "name": "ipython",
    "version": 3
   },
   "file_extension": ".py",
   "mimetype": "text/x-python",
   "name": "python",
   "nbconvert_exporter": "python",
   "pygments_lexer": "ipython3",
   "version": "3.9.2"
  },
  "orig_nbformat": 4,
  "vscode": {
   "interpreter": {
    "hash": "8c93b56f12893a73f3fb26b619faf35eb67f0f4410719b74190040acf104b72e"
   }
  }
 },
 "nbformat": 4,
 "nbformat_minor": 2
}
