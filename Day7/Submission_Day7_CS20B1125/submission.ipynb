{
 "cells": [
  {
   "cell_type": "markdown",
   "metadata": {},
   "source": [
    "# Code for experimenting through various clustering methods \n",
    "_Author : Anirudh Sathish_\n"
   ]
  },
  {
   "cell_type": "code",
   "execution_count": 70,
   "metadata": {},
   "outputs": [],
   "source": [
    "#importing neccesary libaries \n",
    "import pandas as pd \n",
    "import numpy as np \n",
    "import matplotlib.pyplot as plt "
   ]
  },
  {
   "cell_type": "code",
   "execution_count": 71,
   "metadata": {},
   "outputs": [
    {
     "name": "stdout",
     "output_type": "stream",
     "text": [
      "   survival  alive   age  pericardialeffusion  fractionalshortening    epss  \\\n",
      "0      11.0    0.0  71.0                  0.0                 0.260   9.000   \n",
      "1      19.0    0.0  72.0                  0.0                 0.380   6.000   \n",
      "2      16.0    0.0  55.0                  0.0                 0.260   4.000   \n",
      "3      57.0    0.0  60.0                  0.0                 0.253  12.062   \n",
      "4      19.0    1.0  57.0                  0.0                 0.160  22.000   \n",
      "\n",
      "    lvdd  wallmotion-score  wallmotion-index   mult  name group  aliveat1  \n",
      "0  4.600              14.0              1.00  1.000  name     1       0.0  \n",
      "1  4.100              14.0              1.70  0.588  name     1       0.0  \n",
      "2  3.420              14.0              1.00  1.000  name     1       0.0  \n",
      "3  4.603              16.0              1.45  0.788  name     1       0.0  \n",
      "4  5.750              18.0              2.25  0.571  name     1       0.0  \n"
     ]
    }
   ],
   "source": [
    "df = pd.read_csv(\"echocardiogram.csv\")\n",
    "print(df.head())"
   ]
  },
  {
   "cell_type": "code",
   "execution_count": 72,
   "metadata": {},
   "outputs": [
    {
     "name": "stdout",
     "output_type": "stream",
     "text": [
      "<class 'pandas.core.frame.DataFrame'>\n",
      "RangeIndex: 133 entries, 0 to 132\n",
      "Data columns (total 13 columns):\n",
      " #   Column                Non-Null Count  Dtype  \n",
      "---  ------                --------------  -----  \n",
      " 0   survival              130 non-null    float64\n",
      " 1   alive                 131 non-null    float64\n",
      " 2   age                   126 non-null    float64\n",
      " 3   pericardialeffusion   132 non-null    float64\n",
      " 4   fractionalshortening  124 non-null    float64\n",
      " 5   epss                  117 non-null    float64\n",
      " 6   lvdd                  121 non-null    float64\n",
      " 7   wallmotion-score      128 non-null    float64\n",
      " 8   wallmotion-index      130 non-null    float64\n",
      " 9   mult                  129 non-null    float64\n",
      " 10  name                  131 non-null    object \n",
      " 11  group                 110 non-null    object \n",
      " 12  aliveat1              75 non-null     float64\n",
      "dtypes: float64(11), object(2)\n",
      "memory usage: 13.6+ KB\n",
      "None\n"
     ]
    }
   ],
   "source": [
    "print(df.info())"
   ]
  },
  {
   "cell_type": "markdown",
   "metadata": {},
   "source": [
    "Notice that there are lot of empty rows in the above example \n",
    "Since we are just checking out data using clustering , we can decide to remove the aliveat1 column \n"
   ]
  },
  {
   "cell_type": "code",
   "execution_count": 73,
   "metadata": {},
   "outputs": [],
   "source": [
    "df.drop('aliveat1',axis=1,inplace=True)"
   ]
  },
  {
   "cell_type": "code",
   "execution_count": 74,
   "metadata": {},
   "outputs": [
    {
     "name": "stdout",
     "output_type": "stream",
     "text": [
      "survival                 3\n",
      "alive                    2\n",
      "age                      7\n",
      "pericardialeffusion      1\n",
      "fractionalshortening     9\n",
      "epss                    16\n",
      "lvdd                    12\n",
      "wallmotion-score         5\n",
      "wallmotion-index         3\n",
      "mult                     4\n",
      "name                     2\n",
      "group                   23\n",
      "dtype: int64\n"
     ]
    }
   ],
   "source": [
    "# Lets look at the null values \n",
    "print(df.isnull().sum())"
   ]
  },
  {
   "cell_type": "markdown",
   "metadata": {},
   "source": [
    "Again name is not useful and will le a hindrance , so let us remove it \n",
    "Group is also meaningless and so is mult"
   ]
  },
  {
   "cell_type": "code",
   "execution_count": 75,
   "metadata": {},
   "outputs": [],
   "source": [
    "df.drop(['name','group','mult'],axis = 1,inplace = True)"
   ]
  },
  {
   "cell_type": "markdown",
   "metadata": {},
   "source": [
    "Lets drop the nan values in pericardial effusion"
   ]
  },
  {
   "cell_type": "code",
   "execution_count": 76,
   "metadata": {},
   "outputs": [],
   "source": [
    "df = df[(df[\"pericardialeffusion\"]==0) | (df[\"pericardialeffusion\"] == 1)]"
   ]
  },
  {
   "cell_type": "code",
   "execution_count": 77,
   "metadata": {},
   "outputs": [
    {
     "name": "stdout",
     "output_type": "stream",
     "text": [
      "survival                 1\n",
      "alive                    0\n",
      "age                      5\n",
      "pericardialeffusion      0\n",
      "fractionalshortening     7\n",
      "epss                    14\n",
      "lvdd                    10\n",
      "wallmotion-score         3\n",
      "wallmotion-index         1\n",
      "dtype: int64\n"
     ]
    }
   ],
   "source": [
    "print(df.isnull().sum())"
   ]
  },
  {
   "cell_type": "code",
   "execution_count": 78,
   "metadata": {},
   "outputs": [
    {
     "name": "stdout",
     "output_type": "stream",
     "text": [
      "0      0.260\n",
      "1      0.380\n",
      "2      0.260\n",
      "3      0.253\n",
      "4      0.160\n",
      "       ...  \n",
      "128    0.240\n",
      "129    0.280\n",
      "130    0.200\n",
      "131    0.140\n",
      "132    0.150\n",
      "Name: fractionalshortening, Length: 131, dtype: float64\n"
     ]
    }
   ],
   "source": [
    "print(df[\"fractionalshortening\"])"
   ]
  },
  {
   "cell_type": "markdown",
   "metadata": {},
   "source": [
    "Lets fill in the rest of the missing data with their means"
   ]
  },
  {
   "cell_type": "code",
   "execution_count": 79,
   "metadata": {},
   "outputs": [],
   "source": [
    "df = df.fillna(df.mean())"
   ]
  },
  {
   "cell_type": "markdown",
   "metadata": {},
   "source": [
    "Let us save the alive data , and drop it from our initial dataframe "
   ]
  },
  {
   "cell_type": "code",
   "execution_count": 80,
   "metadata": {},
   "outputs": [
    {
     "name": "stdout",
     "output_type": "stream",
     "text": [
      "<class 'pandas.core.frame.DataFrame'>\n",
      "Int64Index: 131 entries, 0 to 132\n",
      "Data columns (total 8 columns):\n",
      " #   Column                Non-Null Count  Dtype  \n",
      "---  ------                --------------  -----  \n",
      " 0   survival              131 non-null    float64\n",
      " 1   age                   131 non-null    float64\n",
      " 2   pericardialeffusion   131 non-null    float64\n",
      " 3   fractionalshortening  131 non-null    float64\n",
      " 4   epss                  131 non-null    float64\n",
      " 5   lvdd                  131 non-null    float64\n",
      " 6   wallmotion-score      131 non-null    float64\n",
      " 7   wallmotion-index      131 non-null    float64\n",
      "dtypes: float64(8)\n",
      "memory usage: 9.2 KB\n",
      "None\n"
     ]
    }
   ],
   "source": [
    "output = df[\"alive\"]\n",
    "df.drop('alive',axis=1,inplace = True)\n",
    "print(df.info())"
   ]
  },
  {
   "cell_type": "markdown",
   "metadata": {},
   "source": [
    "At this stage now we have obtained a cleaned version of the inital dataset \n",
    "Let us apply clustering over here and see how the data is "
   ]
  },
  {
   "cell_type": "markdown",
   "metadata": {},
   "source": [
    "Now before we cluster our data for insights , let us apply standardization "
   ]
  },
  {
   "cell_type": "code",
   "execution_count": 81,
   "metadata": {},
   "outputs": [],
   "source": [
    "from sklearn.preprocessing import StandardScaler\n",
    "\n",
    "# Let us standradize \n",
    "stdScaler = StandardScaler()\n",
    "scaledData = stdScaler.fit_transform(df)"
   ]
  },
  {
   "cell_type": "markdown",
   "metadata": {},
   "source": [
    "Performing K means clustering "
   ]
  },
  {
   "cell_type": "code",
   "execution_count": 82,
   "metadata": {},
   "outputs": [
    {
     "name": "stderr",
     "output_type": "stream",
     "text": [
      "/home/anirudh/.local/lib/python3.8/site-packages/sklearn/cluster/_kmeans.py:870: FutureWarning: The default value of `n_init` will change from 10 to 'auto' in 1.4. Set the value of `n_init` explicitly to suppress the warning\n",
      "  warnings.warn(\n"
     ]
    }
   ],
   "source": [
    "from sklearn.cluster import KMeans\n",
    "\n",
    "kmeans = KMeans(n_clusters =2)\n",
    "kmeans.fit(scaledData)\n",
    "grouping = kmeans.predict(scaledData)"
   ]
  },
  {
   "cell_type": "code",
   "execution_count": 83,
   "metadata": {},
   "outputs": [],
   "source": [
    "df_new_generate= pd.DataFrame(scaledData, columns = df.columns , index = df.index)\n",
    "\n",
    "# Now let us add our predicted grouping \n",
    "df_new_generate[\"predictedGrouping_cluster2\"] = grouping"
   ]
  },
  {
   "cell_type": "code",
   "execution_count": 84,
   "metadata": {},
   "outputs": [
    {
     "name": "stderr",
     "output_type": "stream",
     "text": [
      "/home/anirudh/.local/lib/python3.8/site-packages/sklearn/cluster/_kmeans.py:870: FutureWarning: The default value of `n_init` will change from 10 to 'auto' in 1.4. Set the value of `n_init` explicitly to suppress the warning\n",
      "  warnings.warn(\n"
     ]
    }
   ],
   "source": [
    "# For cluster size 3 \n",
    "kmeans = KMeans(n_clusters =3)\n",
    "kmeans.fit(scaledData)\n",
    "grouping = kmeans.predict(scaledData)\n",
    "\n",
    "# Now let us add our predicted grouping \n",
    "df_new_generate[\"predictedGrouping_cluster3\"] = grouping\n"
   ]
  },
  {
   "cell_type": "code",
   "execution_count": 85,
   "metadata": {},
   "outputs": [
    {
     "name": "stderr",
     "output_type": "stream",
     "text": [
      "/home/anirudh/.local/lib/python3.8/site-packages/sklearn/cluster/_kmeans.py:870: FutureWarning: The default value of `n_init` will change from 10 to 'auto' in 1.4. Set the value of `n_init` explicitly to suppress the warning\n",
      "  warnings.warn(\n"
     ]
    }
   ],
   "source": [
    "# For cluster size 4 \n",
    "kmeans = KMeans(n_clusters =4)\n",
    "kmeans.fit(scaledData)\n",
    "grouping = kmeans.predict(scaledData)\n",
    "\n",
    "# Now let us add our predicted grouping \n",
    "df_new_generate[\"predictedGrouping_cluster4\"] = grouping\n"
   ]
  },
  {
   "cell_type": "code",
   "execution_count": 86,
   "metadata": {},
   "outputs": [
    {
     "name": "stderr",
     "output_type": "stream",
     "text": [
      "/home/anirudh/.local/lib/python3.8/site-packages/sklearn/cluster/_kmeans.py:870: FutureWarning: The default value of `n_init` will change from 10 to 'auto' in 1.4. Set the value of `n_init` explicitly to suppress the warning\n",
      "  warnings.warn(\n"
     ]
    }
   ],
   "source": [
    "# For cluster size 5 \n",
    "kmeans = KMeans(n_clusters =5)\n",
    "kmeans.fit(scaledData)\n",
    "grouping = kmeans.predict(scaledData)\n",
    "\n",
    "\n",
    "# Now let us add our predicted grouping \n",
    "df_new_generate[\"predictedGrouping_cluster5\"] = grouping\n"
   ]
  },
  {
   "cell_type": "code",
   "execution_count": 87,
   "metadata": {},
   "outputs": [
    {
     "name": "stderr",
     "output_type": "stream",
     "text": [
      "/home/anirudh/.local/lib/python3.8/site-packages/sklearn/cluster/_kmeans.py:870: FutureWarning: The default value of `n_init` will change from 10 to 'auto' in 1.4. Set the value of `n_init` explicitly to suppress the warning\n",
      "  warnings.warn(\n"
     ]
    }
   ],
   "source": [
    "# For cluster size 7 \n",
    "kmeans = KMeans(n_clusters =7)\n",
    "kmeans.fit(scaledData)\n",
    "grouping = kmeans.predict(scaledData)\n",
    "# Now let us add our predicted grouping \n",
    "df_new_generate[\"predictedGrouping_cluster7\"] = grouping\n"
   ]
  },
  {
   "cell_type": "code",
   "execution_count": 88,
   "metadata": {},
   "outputs": [
    {
     "name": "stdout",
     "output_type": "stream",
     "text": [
      "<class 'pandas.core.frame.DataFrame'>\n",
      "Int64Index: 131 entries, 0 to 132\n",
      "Data columns (total 13 columns):\n",
      " #   Column                      Non-Null Count  Dtype  \n",
      "---  ------                      --------------  -----  \n",
      " 0   survival                    131 non-null    float64\n",
      " 1   age                         131 non-null    float64\n",
      " 2   pericardialeffusion         131 non-null    float64\n",
      " 3   fractionalshortening        131 non-null    float64\n",
      " 4   epss                        131 non-null    float64\n",
      " 5   lvdd                        131 non-null    float64\n",
      " 6   wallmotion-score            131 non-null    float64\n",
      " 7   wallmotion-index            131 non-null    float64\n",
      " 8   predictedGrouping_cluster2  131 non-null    int32  \n",
      " 9   predictedGrouping_cluster3  131 non-null    int32  \n",
      " 10  predictedGrouping_cluster4  131 non-null    int32  \n",
      " 11  predictedGrouping_cluster5  131 non-null    int32  \n",
      " 12  predictedGrouping_cluster7  131 non-null    int32  \n",
      "dtypes: float64(8), int32(5)\n",
      "memory usage: 11.8 KB\n",
      "None\n"
     ]
    }
   ],
   "source": [
    "print(df_new_generate.info())"
   ]
  },
  {
   "cell_type": "code",
   "execution_count": 89,
   "metadata": {},
   "outputs": [
    {
     "name": "stdout",
     "output_type": "stream",
     "text": [
      "Rand Index score for KNN with cluster size 2 :   0.6526130358191427\n",
      "Rand Index score for KNN with cluster size 4 :   0.6110393423370523\n",
      "Rand Index score for KNN with cluster size 4 :   0.5888432178508515\n",
      "Rand Index score for KNN with cluster size 5 :   0.537874339401057\n",
      "Rand Index score for KNN with cluster size 7 :   0.5220199647680563\n"
     ]
    }
   ],
   "source": [
    "# Finding out the metrics to compare all of these \n",
    "from sklearn.metrics import rand_score , adjusted_rand_score\n",
    "\n",
    "# Now comparing rand_scores of all these\n",
    "# Let us get rand_score by comparing with ground truth \n",
    "score_for_clusterSize2 = rand_score(df_new_generate[\"predictedGrouping_cluster2\"],output)\n",
    "print(\"Rand Index score for KNN with cluster size 2 :  \",score_for_clusterSize2)\n",
    "score_for_clusterSize3 = rand_score(df_new_generate[\"predictedGrouping_cluster3\"],output)\n",
    "print(\"Rand Index score for KNN with cluster size 4 :  \",score_for_clusterSize3)\n",
    "score_for_clusterSize4 = rand_score(df_new_generate[\"predictedGrouping_cluster4\"],output)\n",
    "print(\"Rand Index score for KNN with cluster size 4 :  \",score_for_clusterSize4)\n",
    "score_for_clusterSize5 = rand_score(df_new_generate[\"predictedGrouping_cluster5\"],output)\n",
    "print(\"Rand Index score for KNN with cluster size 5 :  \",score_for_clusterSize5)\n",
    "score_for_clusterSize7 = rand_score(df_new_generate[\"predictedGrouping_cluster7\"],output)\n",
    "print(\"Rand Index score for KNN with cluster size 7 :  \",score_for_clusterSize7)"
   ]
  },
  {
   "cell_type": "code",
   "execution_count": 90,
   "metadata": {},
   "outputs": [
    {
     "name": "stdout",
     "output_type": "stream",
     "text": [
      "Adjusted Rand Index score for KNN with cluster size 2 :   0.2988614982993041\n",
      "Adjusted Rand Index score for KNN with cluster size 4 :   0.24104196255072\n",
      "Adjusted Rand Index score for KNN with cluster size 4 :   0.2110228868353951\n",
      "Adjusted Rand Index score for KNN with cluster size 5 :   0.130904944211202\n",
      "Adjusted Rand Index score for KNN with cluster size 7 :   0.11011604731456028\n"
     ]
    }
   ],
   "source": [
    "# Now comparing adjusted_rand_scores of all these\n",
    "# Let us get adjusted_rand_score by comparing with ground truth\n",
    "score_for_clusterSize2 = adjusted_rand_score(\n",
    "    df_new_generate[\"predictedGrouping_cluster2\"], output)\n",
    "print(\"Adjusted Rand Index score for KNN with cluster size 2 :  \", score_for_clusterSize2)\n",
    "score_for_clusterSize3 = adjusted_rand_score(\n",
    "    df_new_generate[\"predictedGrouping_cluster3\"], output)\n",
    "print(\"Adjusted Rand Index score for KNN with cluster size 4 :  \", score_for_clusterSize3)\n",
    "score_for_clusterSize4 = adjusted_rand_score(\n",
    "    df_new_generate[\"predictedGrouping_cluster4\"], output)\n",
    "print(\"Adjusted Rand Index score for KNN with cluster size 4 :  \", score_for_clusterSize4)\n",
    "score_for_clusterSize5 = adjusted_rand_score(\n",
    "    df_new_generate[\"predictedGrouping_cluster5\"], output)\n",
    "print(\"Adjusted Rand Index score for KNN with cluster size 5 :  \", score_for_clusterSize5)\n",
    "score_for_clusterSize7 = adjusted_rand_score(\n",
    "    df_new_generate[\"predictedGrouping_cluster7\"], output)\n",
    "print(\"Adjusted Rand Index score for KNN with cluster size 7 :  \", score_for_clusterSize7)\n"
   ]
  },
  {
   "cell_type": "markdown",
   "metadata": {},
   "source": [
    "Hierachial clustering model"
   ]
  },
  {
   "cell_type": "code",
   "execution_count": 94,
   "metadata": {},
   "outputs": [],
   "source": [
    "# Create a hierarchical clustering model\n",
    "from sklearn.cluster import AgglomerativeClustering\n",
    "hiercluster = AgglomerativeClustering(affinity='euclidean', linkage='ward', compute_full_tree=True) \n"
   ]
  },
  {
   "cell_type": "code",
   "execution_count": 95,
   "metadata": {},
   "outputs": [
    {
     "data": {
      "image/png": "[encoded data removed]",
      "text/plain": [
       "<Figure size 1000x1000 with 1 Axes>"
      ]
     },
     "metadata": {},
     "output_type": "display_data"
    }
   ],
   "source": [
    "from scipy.cluster.hierarchy import dendrogram,linkage\n",
    "z = linkage(scaledData,'centroid')\n",
    "fig = plt.figure(figsize = (10,10))\n",
    "dendro = dendrogram(z)\n",
    "plt.show()"
   ]
  },
  {
   "cell_type": "code",
   "execution_count": 96,
   "metadata": {},
   "outputs": [
    {
     "name": "stderr",
     "output_type": "stream",
     "text": [
      "/home/anirudh/.local/lib/python3.8/site-packages/sklearn/cluster/_agglomerative.py:983: FutureWarning: Attribute `affinity` was deprecated in version 1.2 and will be removed in 1.4. Use `metric` instead\n",
      "  warnings.warn(\n"
     ]
    },
    {
     "data": {
      "text/plain": [
       "array([95, 22, 14])"
      ]
     },
     "execution_count": 96,
     "metadata": {},
     "output_type": "execute_result"
    }
   ],
   "source": [
    "# Fit the data to the model and determine which clusters each data point belongs to:\n",
    "hiercluster.set_params(n_clusters=3)\n",
    "clusters = hiercluster.fit_predict(scaledData)\n",
    "df_new_generate[\"predictedClustering_cluster3\"] = clusters\n",
    "np.bincount(clusters) # count of data points in each cluster"
   ]
  },
  {
   "cell_type": "code",
   "execution_count": 97,
   "metadata": {},
   "outputs": [
    {
     "name": "stderr",
     "output_type": "stream",
     "text": [
      "/home/anirudh/.local/lib/python3.8/site-packages/sklearn/cluster/_agglomerative.py:983: FutureWarning: Attribute `affinity` was deprecated in version 1.2 and will be removed in 1.4. Use `metric` instead\n",
      "  warnings.warn(\n"
     ]
    },
    {
     "data": {
      "text/plain": [
       "array([22, 46, 14, 27, 22])"
      ]
     },
     "execution_count": 97,
     "metadata": {},
     "output_type": "execute_result"
    }
   ],
   "source": [
    "# Read off 5 clusters:\n",
    "hiercluster.set_params(n_clusters=5)\n",
    "clusters = hiercluster.fit_predict(scaledData) \n",
    "df_new_generate[\"predictedClustering_cluster5\"] = clusters\n",
    "np.bincount(clusters) # count of data points in each cluster"
   ]
  },
  {
   "cell_type": "code",
   "execution_count": 98,
   "metadata": {},
   "outputs": [
    {
     "name": "stderr",
     "output_type": "stream",
     "text": [
      "/home/anirudh/.local/lib/python3.8/site-packages/sklearn/cluster/_agglomerative.py:983: FutureWarning: Attribute `affinity` was deprecated in version 1.2 and will be removed in 1.4. Use `metric` instead\n",
      "  warnings.warn(\n"
     ]
    },
    {
     "data": {
      "text/plain": [
       "array([49, 22, 14, 46])"
      ]
     },
     "execution_count": 98,
     "metadata": {},
     "output_type": "execute_result"
    }
   ],
   "source": [
    "# Read off 4 clusters:\n",
    "hiercluster.set_params(n_clusters=4)\n",
    "clusters = hiercluster.fit_predict(scaledData)\n",
    "df_new_generate[\"predictedClustering_cluster4\"] = clusters \n",
    "np.bincount(clusters) # count of data points in each cluster"
   ]
  },
  {
   "cell_type": "code",
   "execution_count": 99,
   "metadata": {},
   "outputs": [
    {
     "name": "stderr",
     "output_type": "stream",
     "text": [
      "/home/anirudh/.local/lib/python3.8/site-packages/sklearn/cluster/_agglomerative.py:983: FutureWarning: Attribute `affinity` was deprecated in version 1.2 and will be removed in 1.4. Use `metric` instead\n",
      "  warnings.warn(\n"
     ]
    },
    {
     "data": {
      "text/plain": [
       "array([27, 23, 14, 13, 22,  9, 23])"
      ]
     },
     "execution_count": 99,
     "metadata": {},
     "output_type": "execute_result"
    }
   ],
   "source": [
    "# Read off 7 clusters:\n",
    "hiercluster.set_params(n_clusters=7)\n",
    "clusters = hiercluster.fit_predict(scaledData)\n",
    "df_new_generate[\"predictedClustering_cluster7\"] = clusters \n",
    "np.bincount(clusters) # count of data points in each cluster"
   ]
  },
  {
   "cell_type": "code",
   "execution_count": 100,
   "metadata": {},
   "outputs": [
    {
     "name": "stderr",
     "output_type": "stream",
     "text": [
      "/home/anirudh/.local/lib/python3.8/site-packages/sklearn/cluster/_agglomerative.py:983: FutureWarning: Attribute `affinity` was deprecated in version 1.2 and will be removed in 1.4. Use `metric` instead\n",
      "  warnings.warn(\n"
     ]
    },
    {
     "data": {
      "text/plain": [
       "array([36, 95])"
      ]
     },
     "execution_count": 100,
     "metadata": {},
     "output_type": "execute_result"
    }
   ],
   "source": [
    "# Read off 2 clusters:\n",
    "hiercluster.set_params(n_clusters=2)\n",
    "clusters = hiercluster.fit_predict(scaledData) \n",
    "df_new_generate[\"predictedClustering_cluster2\"] = clusters\n",
    "np.bincount(clusters) # count of data points in each cluster"
   ]
  },
  {
   "cell_type": "code",
   "execution_count": 101,
   "metadata": {},
   "outputs": [
    {
     "name": "stdout",
     "output_type": "stream",
     "text": [
      "Rand Index score for Agglomerative Clustering with cluster size 2 :   0.5915443335290663\n",
      "Rand Index score for Agglomerative Clustering with cluster size 4 :   0.5915443335290663\n",
      "Rand Index score for Agglomerative Clustering with cluster size 4 :   0.5471520845566648\n",
      "Rand Index score for Agglomerative Clustering with cluster size 5 :   0.5513799177921316\n",
      "Rand Index score for Agglomerative Clustering with cluster size 7 :   0.5029947152084556\n"
     ]
    }
   ],
   "source": [
    "# To get the metrics reading of Agglomerative Clustering \n",
    "# Now comparing rand_scores of all these\n",
    "# Let us get rand_score by comparing with ground truth \n",
    "score_for_clusterSize2 = rand_score(df_new_generate[\"predictedClustering_cluster2\"],output)\n",
    "print(\"Rand Index score for Agglomerative Clustering with cluster size 2 :  \",score_for_clusterSize2)\n",
    "score_for_clusterSize3 = rand_score(df_new_generate[\"predictedClustering_cluster3\"],output)\n",
    "print(\"Rand Index score for Agglomerative Clustering with cluster size 4 :  \",score_for_clusterSize3)\n",
    "score_for_clusterSize4 = rand_score(df_new_generate[\"predictedClustering_cluster4\"],output)\n",
    "print(\"Rand Index score for Agglomerative Clustering with cluster size 4 :  \",score_for_clusterSize4)\n",
    "score_for_clusterSize5 = rand_score(df_new_generate[\"predictedClustering_cluster5\"],output)\n",
    "print(\"Rand Index score for Agglomerative Clustering with cluster size 5 :  \",score_for_clusterSize5)\n",
    "score_for_clusterSize7 = rand_score(df_new_generate[\"predictedClustering_cluster7\"],output)\n",
    "print(\"Rand Index score for Agglomerative Clustering with cluster size 7 :  \",score_for_clusterSize7)"
   ]
  },
  {
   "cell_type": "code",
   "execution_count": 102,
   "metadata": {},
   "outputs": [
    {
     "name": "stdout",
     "output_type": "stream",
     "text": [
      "Adjusted Rand Index score for Agglomerative Clustering with cluster size 2 :   0.16481704479758597\n",
      "Adjusted Rand Index score for Agglomerative Clustering with cluster size 4 :   0.1716308856525447\n",
      "Adjusted Rand Index score for Agglomerative Clustering with cluster size 4 :   0.13334509150335666\n",
      "Adjusted Rand Index score for Agglomerative Clustering with cluster size 5 :   0.15399751021061253\n",
      "Adjusted Rand Index score for Agglomerative Clustering with cluster size 7 :   0.07743252597529841\n"
     ]
    }
   ],
   "source": [
    "# Let us get adjusted_rand_score by comparing with ground truth\n",
    "score_for_clusterSize2 = adjusted_rand_score(\n",
    "    df_new_generate[\"predictedClustering_cluster2\"], output)\n",
    "print(\"Adjusted Rand Index score for Agglomerative Clustering with cluster size 2 :  \", score_for_clusterSize2)\n",
    "score_for_clusterSize3 = adjusted_rand_score(\n",
    "    df_new_generate[\"predictedClustering_cluster3\"], output)\n",
    "print(\"Adjusted Rand Index score for Agglomerative Clustering with cluster size 4 :  \", score_for_clusterSize3)\n",
    "score_for_clusterSize4 = adjusted_rand_score(\n",
    "    df_new_generate[\"predictedClustering_cluster4\"], output)\n",
    "print(\"Adjusted Rand Index score for Agglomerative Clustering with cluster size 4 :  \",\n",
    "      score_for_clusterSize4)\n",
    "score_for_clusterSize5 = adjusted_rand_score(\n",
    "    df_new_generate[\"predictedClustering_cluster5\"], output)\n",
    "print(\"Adjusted Rand Index score for Agglomerative Clustering with cluster size 5 :  \", score_for_clusterSize5)\n",
    "score_for_clusterSize7 = adjusted_rand_score(\n",
    "    df_new_generate[\"predictedClustering_cluster7\"], output)\n",
    "print(\"Adjusted Rand Index score for Agglomerative Clustering with cluster size 7 :  \", score_for_clusterSize7)"
   ]
  }
 ],
 "metadata": {
  "kernelspec": {
   "display_name": "Python 3.8.10 64-bit",
   "language": "python",
   "name": "python3"
  },
  "language_info": {
   "codemirror_mode": {
    "name": "ipython",
    "version": 3
   },
   "file_extension": ".py",
   "mimetype": "text/x-python",
   "name": "python",
   "nbconvert_exporter": "python",
   "pygments_lexer": "ipython3",
   "version": "3.8.10"
  },
  "orig_nbformat": 4,
  "vscode": {
   "interpreter": {
    "hash": "31f2aee4e71d21fbe5cf8b01ff0e069b9275f58929596ceb00d14d90e3e16cd6"
   }
  }
 },
 "nbformat": 4,
 "nbformat_minor": 2
}
