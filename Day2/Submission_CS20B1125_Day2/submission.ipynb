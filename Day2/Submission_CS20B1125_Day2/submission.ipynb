{
 "cells": [
  {
   "cell_type": "markdown",
   "metadata": {},
   "source": [
    "### Day 2 ML Course \n",
    "##### _Author : Anirudh Sathish_\n",
    "##### _Roll no : CS20B1125_\n",
    "\n",
    "###### The Question is Solved in the order\n",
    "###### -A\n",
    "###### -B and D\n",
    "###### -C"
   ]
  },
  {
   "cell_type": "code",
   "execution_count": 65,
   "metadata": {},
   "outputs": [],
   "source": [
    "# Importing neccesary libraries\n",
    "import pandas as pd \n",
    "import numpy as np \n",
    "import matplotlib.pyplot as plt"
   ]
  },
  {
   "cell_type": "code",
   "execution_count": 66,
   "metadata": {},
   "outputs": [
    {
     "name": "stdout",
     "output_type": "stream",
     "text": [
      "    Id     x1   x2     x3    x4     X1   X2     X3    X4\n",
      "0    1  77.60  136   9.65  12.6  65.55  166   9.29  11.3\n",
      "1    2  83.45  177   9.76  13.1  67.10  132   9.52  11.7\n",
      "2    3  76.20  164  10.52  13.9  66.25  173   9.88  12.1\n",
      "3    4  80.30  185   9.76  12.5  80.45  155  11.19  13.8\n",
      "4    5  82.30  187   9.77  13.4  78.30  202  10.78  13.3\n",
      "5    6  86.00  171   9.25  13.0  77.80  155  10.86  14.0\n",
      "6    7  90.50  211   9.75  12.9  79.20  161  10.68  14.3\n",
      "7    8  81.50  158  10.38  13.6  82.65  158  10.64  12.2\n",
      "8    9  79.75  176   9.31  12.0  79.85  156  10.83  13.7\n",
      "9   10  86.85  175  10.23  14.2  67.30  157   9.78  11.8\n",
      "10  11  72.90  139  10.29  12.9  70.65  173   9.97  12.2\n",
      "11  12  73.50  124   9.68  12.0  67.15  159   9.99  12.3\n",
      "12  13  86.85  149  10.33  13.5  80.85  160  10.47  12.7\n",
      "13  14  89.15  224   9.70  13.0  81.80  162  10.87  13.9\n",
      "14  15  78.05  149   9.63  12.6  81.15  178  11.07  13.8\n"
     ]
    }
   ],
   "source": [
    "# Converting the given input file into dataframe\n",
    "df = pd.read_csv(\"values.txt\",sep = \" \")\n",
    "print(df)"
   ]
  },
  {
   "cell_type": "code",
   "execution_count": 67,
   "metadata": {},
   "outputs": [],
   "source": [
    "# preprocess \n",
    "df_Id = df.iloc[:,0]\n",
    "df_x1 = df.iloc[:,1]\n",
    "df_x2 = df.iloc[:,2]\n",
    "df_x3 = df.iloc[:,3]\n",
    "df_x4 = df.iloc[:,4]\n",
    "df_X1 = df.iloc[:,5]\n",
    "df_X2 = df.iloc[:,6]\n",
    "df_X3 = df.iloc[:,7]\n",
    "df_X4 = df.iloc[:,8]\n",
    "\n",
    "ids = [i for i in range(1,31)]\n",
    "x1= df_x1.to_list() + df_X1.to_list()\n",
    "x2= df_x2.to_list() + df_X2.to_list()\n",
    "x3= df_x3.to_list() + df_X3.to_list()\n",
    "x4= df_x4.to_list() + df_X4.to_list()\n",
    "df_Id = pd.DataFrame(ids)\n",
    "df_x1 = pd.DataFrame(x1)\n",
    "df_x2 = pd.DataFrame(x2)\n",
    "df_x3 = pd.DataFrame(x3)\n",
    "df_x4 = pd.DataFrame(x4)"
   ]
  },
  {
   "cell_type": "code",
   "execution_count": 68,
   "metadata": {},
   "outputs": [
    {
     "name": "stdout",
     "output_type": "stream",
     "text": [
      "       x1   x2     x3    x4\n",
      "0   77.60  136   9.65  12.6\n",
      "1   83.45  177   9.76  13.1\n",
      "2   76.20  164  10.52  13.9\n",
      "3   80.30  185   9.76  12.5\n",
      "4   82.30  187   9.77  13.4\n",
      "5   86.00  171   9.25  13.0\n",
      "6   90.50  211   9.75  12.9\n",
      "7   81.50  158  10.38  13.6\n",
      "8   79.75  176   9.31  12.0\n",
      "9   86.85  175  10.23  14.2\n",
      "10  72.90  139  10.29  12.9\n",
      "11  73.50  124   9.68  12.0\n",
      "12  86.85  149  10.33  13.5\n",
      "13  89.15  224   9.70  13.0\n",
      "14  78.05  149   9.63  12.6\n",
      "15  65.55  166   9.29  11.3\n",
      "16  67.10  132   9.52  11.7\n",
      "17  66.25  173   9.88  12.1\n",
      "18  80.45  155  11.19  13.8\n",
      "19  78.30  202  10.78  13.3\n",
      "20  77.80  155  10.86  14.0\n",
      "21  79.20  161  10.68  14.3\n",
      "22  82.65  158  10.64  12.2\n",
      "23  79.85  156  10.83  13.7\n",
      "24  67.30  157   9.78  11.8\n",
      "25  70.65  173   9.97  12.2\n",
      "26  67.15  159   9.99  12.3\n",
      "27  80.85  160  10.47  12.7\n",
      "28  81.80  162  10.87  13.9\n",
      "29  81.15  178  11.07  13.8\n"
     ]
    }
   ],
   "source": [
    "df = pd.concat([df_x1,df_x2,df_x3,df_x4],axis = 1)\n",
    "df.columns = [\"x1\",\"x2\",\"x3\",\"x4\"]\n",
    "print(df)\n",
    "\n",
    "#convert to numpy \n",
    "data = df.to_numpy()"
   ]
  },
  {
   "cell_type": "markdown",
   "metadata": {},
   "source": [
    "_Solution to A part of the Question_"
   ]
  },
  {
   "cell_type": "code",
   "execution_count": 69,
   "metadata": {},
   "outputs": [
    {
     "name": "stdout",
     "output_type": "stream",
     "text": [
      "[ 78.365      165.73333333  10.12766667  12.94333333]\n"
     ]
    }
   ],
   "source": [
    "# Finding the means \n",
    "Means = np.mean(data,0)\n",
    "print(Means)"
   ]
  },
  {
   "cell_type": "code",
   "execution_count": 70,
   "metadata": {},
   "outputs": [
    {
     "name": "stdout",
     "output_type": "stream",
     "text": [
      "[[ 4.75479569e+01  7.05248276e+01  7.58398276e-01  3.36915517e+00]\n",
      " [ 7.05248276e+01  4.77995402e+02 -7.91678161e-01  2.89471264e+00]\n",
      " [ 7.58398276e-01 -7.91678161e-01  3.15128851e-01  3.23552874e-01]\n",
      " [ 3.36915517e+00  2.89471264e+00  3.23552874e-01  6.74954023e-01]]\n"
     ]
    }
   ],
   "source": [
    "#Find the covariance matrix\n",
    "covarianceMat = np.cov(data.T)\n",
    "print(covarianceMat)"
   ]
  },
  {
   "cell_type": "code",
   "execution_count": 71,
   "metadata": {},
   "outputs": [],
   "source": [
    "# Calculate eigenValues and EigenVectors\n",
    "eigenValues , eigenVectors = np.linalg.eig(covarianceMat)"
   ]
  },
  {
   "cell_type": "code",
   "execution_count": 72,
   "metadata": {},
   "outputs": [
    {
     "name": "stdout",
     "output_type": "stream",
     "text": [
      "Eigen Values: \n",
      "[4.89280087e+02 3.65396440e+01 6.22203694e-01 9.15073250e-02]\n",
      "Eigen Vectors :\n",
      "[[ 1.57703890e-01  9.83940357e-01 -7.79869693e-02 -3.01477895e-02]\n",
      " [ 9.87461161e-01 -1.57669244e-01  7.78021664e-03 -5.77866853e-04]\n",
      " [-1.34959505e-03  2.47595703e-02  6.14484812e-01 -7.88538876e-01]\n",
      " [ 6.93670265e-03  7.99296361e-02  7.85026061e-01  6.14245243e-01]]\n"
     ]
    }
   ],
   "source": [
    "# Obtaining the eigen values and vectors \n",
    "print(\"Eigen Values: \")\n",
    "print(eigenValues)\n",
    "print(\"Eigen Vectors :\")\n",
    "print(eigenVectors)"
   ]
  },
  {
   "cell_type": "markdown",
   "metadata": {},
   "source": [
    "_Solution to the the b and d parts of the question_"
   ]
  },
  {
   "cell_type": "code",
   "execution_count": 73,
   "metadata": {},
   "outputs": [
    {
     "name": "stdout",
     "output_type": "stream",
     "text": [
      "[[ 0.15770389  0.98746116 -0.0013496   0.0069367 ]\n",
      " [ 0.98394036 -0.15766924  0.02475957  0.07992964]\n",
      " [-0.07798697  0.00778022  0.61448481  0.78502606]]\n",
      "[[ 0.15770389  0.98746116 -0.0013496   0.0069367 ]\n",
      " [ 0.98394036 -0.15766924  0.02475957  0.07992964]]\n"
     ]
    }
   ],
   "source": [
    "# Transformation\n",
    "A_for_three = np.array([eigenVectors[:,0],eigenVectors[:,1],eigenVectors[:,2]])\n",
    "A_for_two = np.array([eigenVectors[:,0],eigenVectors[:,1]])\n",
    "\n",
    "#Printing Transformed\n",
    "print(A_for_three)\n",
    "print(A_for_two)"
   ]
  },
  {
   "cell_type": "code",
   "execution_count": 74,
   "metadata": {},
   "outputs": [
    {
     "name": "stdout",
     "output_type": "stream",
     "text": [
      "Two dimensional Representation\n",
      "            0          1\n",
      "0  -29.482892   3.896048\n",
      "1   11.928903   3.230349\n",
      "2   -2.046922  -1.770757\n",
      "3   19.327663  -1.178375\n",
      "4   21.624223   0.546352\n",
      "5    6.406276   6.664792\n",
      "6   46.613021   4.790141\n",
      "7   -7.137750   4.362697\n",
      "8   10.350914  -0.351626\n",
      "9   10.497170   6.990644\n",
      "10 -27.260500  -1.161654\n",
      "11 -41.983215   1.706709\n",
      "12 -15.181811  11.036570\n",
      "13  59.237877   1.418876\n",
      "14 -16.574903   2.288626\n",
      "15  -1.767921 -12.803332\n",
      "16 -35.094695  -5.879804\n",
      "17   5.259453 -13.139707\n",
      "18 -10.265428   3.838608\n",
      "19  35.803268  -5.737434\n",
      "20 -10.681511   1.238981\n",
      "21  -4.533635   1.690005\n",
      "22  -6.966453   5.388764\n",
      "23  -9.372797   3.073668\n",
      "24 -10.376283  -9.610316\n",
      "25   5.953922  -8.800148\n",
      "26  -8.421831 -10.028081\n",
      "27  -5.271700   3.338089\n",
      "28  -3.139175   4.063313\n",
      "29  12.556733   0.898003\n"
     ]
    }
   ],
   "source": [
    "# Applying transformation to obtain new representaion in 2d\n",
    "TwoDimensionValue = np.matmul(A_for_two,(data-Means).T) \n",
    "#print(TwoDimensionValue)\n",
    "observe_2d = pd.DataFrame(TwoDimensionValue.transpose())\n",
    "print(\"Two dimensional Representation\")\n",
    "print(observe_2d)\n"
   ]
  },
  {
   "cell_type": "code",
   "execution_count": 75,
   "metadata": {},
   "outputs": [
    {
     "name": "stdout",
     "output_type": "stream",
     "text": [
      "            0           1          2          3\n",
      "0   77.548913  136.005835  10.263921  13.050229\n",
      "1   83.424705  177.003335  10.191550  13.284281\n",
      "2   76.299873  163.991272  10.086586  12.787598\n",
      "3   80.253597  185.004443  10.072406  12.983217\n",
      "4   82.312801  187.000270  10.112010  13.137004\n",
      "5   85.933052  171.008449  10.284038  13.520486\n",
      "6   90.429267  211.006623  10.183360  13.649548\n",
      "7   81.531982  157.997219  10.245318  13.242530\n",
      "8   79.651401  176.009900  10.104991  12.987029\n",
      "9   86.898822  174.996671  10.286585  13.574909\n",
      "10  72.922915  138.997806  10.135695  12.661385\n",
      "11  73.423384  124.007444  10.226584  12.788525\n",
      "12  86.830096  149.001757  10.421417  13.720171\n",
      "13  89.103133  224.004723  10.082850  13.467659\n",
      "14  78.002945  149.005414  10.206701  13.011287\n",
      "15  65.488477  166.006272   9.813048  11.907704\n",
      "16  67.045054  132.005749  10.029449  12.229921\n",
      "17  66.265748  172.998566   9.795235  11.929565\n",
      "18  80.523063  154.991391  10.236563  13.178944\n",
      "19  78.366021  201.992287   9.937290  12.733099\n",
      "20  77.899568  154.990407  10.172759  12.968270\n",
      "21  79.312892  160.990083  10.175629  13.046966\n",
      "22  82.568586  158.004589  10.270492  13.325731\n",
      "23  79.911180  155.993437  10.216419  13.123994\n",
      "24  67.272642  157.002408   9.903723  12.103207\n",
      "25  70.645136  173.000113   9.901743  12.281241\n",
      "26  67.169810  158.998222   9.890742  12.083373\n",
      "27  80.818113  160.001421  10.217431  13.173577\n",
      "28  81.867997  161.992861  10.232509  13.246337\n",
      "29  81.228827  177.991032  10.132954  13.102213\n"
     ]
    }
   ],
   "source": [
    "# Recovered Values after performing inverse transformation for 2d\n",
    "X_recover_2d = np.matmul(A_for_two.T,TwoDimensionValue).T+Means\n",
    "print(pd.DataFrame(X_recover_2d))"
   ]
  },
  {
   "cell_type": "code",
   "execution_count": 76,
   "metadata": {},
   "outputs": [
    {
     "name": "stdout",
     "output_type": "stream",
     "text": [
      "0.6899206517901068\n"
     ]
    }
   ],
   "source": [
    "# Error caclulation 2d\n",
    "mse_2d = np.sum((data-X_recover_2d)**2)/30\n",
    "print(mse_2d)"
   ]
  },
  {
   "cell_type": "code",
   "execution_count": 83,
   "metadata": {},
   "outputs": [
    {
     "name": "stdout",
     "output_type": "stream",
     "text": [
      "Three dimensional Representation\n",
      "            0          1         2\n",
      "0  -29.482892   3.896048 -0.734716\n",
      "1   11.928903   3.230349 -0.411845\n",
      "2   -2.046922  -1.770757  1.147447\n",
      "3   19.327663  -1.178375 -0.574960\n",
      "4   21.624223   0.546352 -0.002705\n",
      "5    6.406276   6.664792 -1.049283\n",
      "6   46.613021   4.790141 -0.860276\n",
      "7   -7.137750   4.362697  0.365899\n",
      "8   10.350914  -0.351626 -1.271120\n",
      "9   10.497170   6.990644  0.459776\n",
      "10 -27.260500  -1.161654  0.283941\n",
      "11 -41.983215   1.706709 -0.960913\n",
      "12 -15.181811  11.036570 -0.230580\n",
      "13  59.237877   1.418876 -0.606072\n",
      "14 -16.574903   2.288626 -0.680957\n",
      "15  -1.767921 -12.803332 -0.803315\n",
      "16 -35.094695  -5.879804 -0.733380\n",
      "17   5.259453 -13.139707  0.187122\n",
      "18 -10.265428   3.838608  1.079183\n",
      "19  35.803268  -5.737434  0.968073\n",
      "20 -10.681511   1.238981  1.240074\n",
      "21  -4.533635   1.690005  1.302474\n",
      "22  -6.966453   5.388764 -0.663056\n",
      "23  -9.372797   3.073668  0.834038\n",
      "24 -10.376283  -9.610316 -0.316204\n",
      "25   5.953922  -8.800148 -0.022214\n",
      "26  -8.421831 -10.028081  0.232610\n",
      "27  -5.271700   3.338089 -0.219069\n",
      "28  -3.139175   4.063313  0.910229\n",
      "29  12.556733   0.898003  1.129799\n"
     ]
    }
   ],
   "source": [
    "# Applying transformation to obtain new representaion in 3d\n",
    "ThreeDimensionValue = np.matmul(A_for_three,(data-Means).T) \n",
    "observe_3d = pd.DataFrame(ThreeDimensionValue.transpose())\n",
    "print(\"Three dimensional Representation\")\n",
    "print(observe_3d)\n"
   ]
  },
  {
   "cell_type": "code",
   "execution_count": 84,
   "metadata": {},
   "outputs": [
    {
     "name": "stdout",
     "output_type": "stream",
     "text": [
      "            0           1          2          3\n",
      "0   77.606211  136.000119   9.812449  12.473458\n",
      "1   83.456824  177.000131   9.938477  12.960972\n",
      "2   76.210387  164.000199  10.791675  13.688374\n",
      "3   80.298436  184.999970   9.719102  12.531858\n",
      "4   82.313012  187.000249  10.110348  13.134880\n",
      "5   86.014883  171.000285   9.639270  12.696772\n",
      "6   90.496358  210.999930   9.654733  12.974209\n",
      "7   81.503447  158.000066  10.470158  13.529770\n",
      "8   79.750532  176.000010   9.323907  11.989167\n",
      "9   86.862965  175.000249  10.569110  13.935845\n",
      "10  72.900771  139.000015  10.310173  12.884286\n",
      "11  73.498322  123.999968   9.636118  12.034183\n",
      "12  86.848078  148.999963  10.279729  13.539159\n",
      "13  89.150399  224.000008   9.710428  12.991877\n",
      "14  78.056051  149.000116   9.788264  12.476718\n",
      "15  65.551125  166.000022   9.319423  11.277081\n",
      "16  67.102248  132.000043   9.578798  11.654199\n",
      "17  66.251155  173.000022   9.910219  12.076461\n",
      "18  80.438901  154.999787  10.899705  14.026130\n",
      "19  78.290524  201.999818  10.532157  13.493062\n",
      "20  77.802858  155.000055  10.934765  13.941760\n",
      "21  79.211316  161.000217  10.975979  14.069442\n",
      "22  82.620295  157.999431   9.863054  12.805215\n",
      "23  79.846136  155.999926  10.728923  13.778736\n",
      "24  67.297302  156.999948   9.709421  11.854979\n",
      "25  70.646868  172.999940   9.888093  12.263803\n",
      "26  67.151670  159.000032  10.033677  12.265977\n",
      "27  80.835197  159.999716  10.082817  13.001603\n",
      "28  81.797011  161.999943  10.791831  13.960891\n",
      "29  81.140717  177.999822  10.827199  13.989134\n"
     ]
    }
   ],
   "source": [
    "# Recovered Values after performing inverse transformation 3d\n",
    "X_recover_3d = np.matmul(A_for_three.T,ThreeDimensionValue).T+Means\n",
    "print(pd.DataFrame(X_recover_3d))"
   ]
  },
  {
   "cell_type": "code",
   "execution_count": 85,
   "metadata": {},
   "outputs": [
    {
     "name": "stdout",
     "output_type": "stream",
     "text": [
      "0.08845708085951669\n"
     ]
    }
   ],
   "source": [
    "# Error caclulation 3d\n",
    "mse_3d = np.sum((data-X_recover_3d)**2)/30\n",
    "print(mse_3d)"
   ]
  },
  {
   "cell_type": "markdown",
   "metadata": {},
   "source": [
    "_Solution to C part of the question_"
   ]
  },
  {
   "cell_type": "code",
   "execution_count": 80,
   "metadata": {},
   "outputs": [
    {
     "data": {
      "image/png": "[encoded data removed]",
      "text/plain": [
       "<Figure size 432x288 with 1 Axes>"
      ]
     },
     "metadata": {
      "needs_background": "light"
     },
     "output_type": "display_data"
    }
   ],
   "source": [
    "# Plotting scatter plots \n",
    "columns = [\"x1\",\"x2\",\"x3\"]\n",
    "observe_3d.columns = columns\n",
    "\n",
    "# Between feature 1 and feature 2 \n",
    "plt.scatter(x= observe_3d[\"x1\"],y= observe_3d[\"x2\"])\n",
    "plt.show()"
   ]
  },
  {
   "cell_type": "code",
   "execution_count": 81,
   "metadata": {},
   "outputs": [
    {
     "data": {
      "image/png": "[encoded data removed]",
      "text/plain": [
       "<Figure size 432x288 with 1 Axes>"
      ]
     },
     "metadata": {
      "needs_background": "light"
     },
     "output_type": "display_data"
    }
   ],
   "source": [
    "\n",
    "# Between feature 1 and feature 3 \n",
    "plt.scatter(x= observe_3d[\"x1\"],y= observe_3d[\"x3\"])\n",
    "plt.show()"
   ]
  },
  {
   "cell_type": "code",
   "execution_count": 82,
   "metadata": {},
   "outputs": [
    {
     "data": {
      "image/png": "[encoded data removed]",
      "text/plain": [
       "<Figure size 432x288 with 1 Axes>"
      ]
     },
     "metadata": {
      "needs_background": "light"
     },
     "output_type": "display_data"
    }
   ],
   "source": [
    "# Between feature 2 and feature 3 \n",
    "plt.scatter(x= observe_3d[\"x2\"],y= observe_3d[\"x3\"])\n",
    "plt.show()"
   ]
  },
  {
   "cell_type": "code",
   "execution_count": null,
   "metadata": {},
   "outputs": [],
   "source": []
  }
 ],
 "metadata": {
  "kernelspec": {
   "display_name": "Python 3.9.2 64-bit",
   "language": "python",
   "name": "python3"
  },
  "language_info": {
   "codemirror_mode": {
    "name": "ipython",
    "version": 3
   },
   "file_extension": ".py",
   "mimetype": "text/x-python",
   "name": "python",
   "nbconvert_exporter": "python",
   "pygments_lexer": "ipython3",
   "version": "3.9.2"
  },
  "orig_nbformat": 4,
  "vscode": {
   "interpreter": {
    "hash": "8c93b56f12893a73f3fb26b619faf35eb67f0f4410719b74190040acf104b72e"
   }
  }
 },
 "nbformat": 4,
 "nbformat_minor": 2
}
