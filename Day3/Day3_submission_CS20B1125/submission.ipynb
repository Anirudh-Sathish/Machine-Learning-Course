{
 "cells": [
  {
   "cell_type": "markdown",
   "metadata": {},
   "source": [
    "# Day 3 Assignment \n",
    "_Anirudh Sathish_\n",
    "_CS20B1125_"
   ]
  },
  {
   "cell_type": "code",
   "execution_count": 421,
   "metadata": {},
   "outputs": [],
   "source": [
    "#importing libraries \n",
    "import pandas as pd \n",
    "import numpy as np \n",
    "import matplotlib.pyplot as plt \n",
    "from sklearn.neighbors import KNeighborsClassifier\n",
    "from sklearn.model_selection import train_test_split\n",
    "import math"
   ]
  },
  {
   "cell_type": "code",
   "execution_count": 422,
   "metadata": {},
   "outputs": [],
   "source": [
    "# Defining the neccesary functions and classes\n",
    "\n",
    "# Define some function to perform knn\n",
    "# Take k as input on some fitted data\n",
    "class handmadeKnnClassifier():\n",
    "    def __init__(self,k):\n",
    "        # Initialsing the neighbours\n",
    "        self.kvalue  = k\n",
    "    def fitData(self,input,label):\n",
    "        self.input = input\n",
    "        self.label = label\n",
    "        # To obtain the labels clearly \n",
    "        class_l = set(self.label.iloc[:,0])\n",
    "        self.finalLabels = list(class_l)\n",
    "    def findPollResults(self):\n",
    "        # To find out the results of the polling from neighbours\n",
    "\n",
    "        # to convert lists to dictionary\n",
    "        label_values = [0 for i in range(self.kvalue)]\n",
    "        poll = {}\n",
    "        for label in self.finalLabels:\n",
    "            for value in label_values:\n",
    "                poll[label] = value\n",
    "                label_values.remove(value)\n",
    "                break\n",
    "\n",
    "        for i in range(self.kvalue):\n",
    "            #Transverse through minIndex and obtain the classification\n",
    "            index = self.MinIndex[i]\n",
    "            labelObtained = self.label.iloc[index][0]\n",
    "\n",
    "            # If N == 1 , no need for further computation\n",
    "            if(self.kvalue == 1):\n",
    "                return labelObtained\n",
    "            poll[labelObtained]+=1\n",
    "        \n",
    "        # selecting the label that got polled maximum number of times\n",
    "        labelFinal = max(poll, key=poll.get)\n",
    "        return labelFinal\n",
    "\n",
    "    def generateDummyKMin(self):\n",
    "        # generating placeholder Minimum distance and index Values \n",
    "        self.Mins = [1000000+i for i in range(self.kvalue)]\n",
    "        self.MinIndex = [-1 for i in range(self.kvalue)]\n",
    "        return self.Mins\n",
    "\n",
    "    def insertIntoList(self,dist,index):\n",
    "        #Insert into a sorted list replacing the apt value\n",
    "        flag = False \n",
    "        for i in range(self.kvalue):\n",
    "            if(dist<self.Mins[i]):\n",
    "                # Insert there\n",
    "                self.Mins.insert(i,dist)\n",
    "                #Save the index\n",
    "                self.MinIndex.insert(i,index)\n",
    "                # Delete last item\n",
    "                self.Mins = self.Mins[:-1]\n",
    "                self.MinIndex = self.MinIndex[:-1]\n",
    "                self.Mins.sort()\n",
    "                # set flag as True \n",
    "                flag = True \n",
    "                break\n",
    "    def findMinowskiDistance(self,input_tuple,index):\n",
    "        # Currently considered for parameter case being 1\n",
    "        totalDist = 0 \n",
    "        for i in range(self.input.shape[1]):\n",
    "            dist =  abs(self.input.iloc[index][i]-input_tuple[i])\n",
    "            totalDist += dist\n",
    "        \n",
    "        # Found the distance and inserting to list , if value\n",
    "        if (totalDist < self.Mins[-1]):\n",
    "            self.insertIntoList(totalDist,index)\n",
    "    \n",
    "    def findtestLabel(self,input_tuple,index):\n",
    "        # Run thorough all existing known values and their labels\n",
    "        Min_Values = self.generateDummyKMin()\n",
    "        for i in range(self.input.shape[0]):\n",
    "            #Find k_nearest_values\n",
    "            self.findMinowskiDistance(input_tuple,i) \n",
    "        # ----Find the poll out of this\n",
    "        label = self.findPollResults()\n",
    "        return label\n",
    "        \n",
    "    def predictData(self,input):\n",
    "        labels = []\n",
    "        # Processing all the test case inputs\n",
    "        for i in range(input.shape[0]):\n",
    "            # The above function passes an input tuple and the index \n",
    "            myLabel = self.findtestLabel(input.iloc[i],i)\n",
    "            #print(myLabel)\n",
    "            labels.append(myLabel)\n",
    "        label_df = pd.DataFrame(labels)\n",
    "        return label_df\n"
   ]
  },
  {
   "cell_type": "code",
   "execution_count": 423,
   "metadata": {},
   "outputs": [],
   "source": [
    "# function to give accuracyScore of prediction \n",
    "def accuracyScore(Y_predicted,Y_true):\n",
    "    positive = 0\n",
    "    total = 0 \n",
    "    for i in range(len(Y_predicted)):  \n",
    "        if(Y_predicted.iloc[i][0] == Y_test.iloc[i][0]):\n",
    "            positive+=1\n",
    "        total+=1\n",
    "    pred = positive/total\n",
    "    return pred \n",
    "    \n",
    "# Setting Up a polling function \n",
    "def generatePoll(Y,parts):\n",
    "    label_values = [0 for i in range(len(parts))]\n",
    "    poll = {}\n",
    "    finalLabels = list(set(Y.iloc[:,0]))\n",
    "    for label in finalLabels:\n",
    "        for value in label_values:\n",
    "            poll[label] = value\n",
    "            label_values.remove(value)\n",
    "            break\n",
    "    return poll\n",
    "\n",
    "# For computing when attributes are taken as subsets\n",
    "def split_subset_computation(k_list,subsets):\n",
    "    # Now split each of the subsets into test_train and apply knn on them \n",
    "    # Initally using built in libraries\n",
    "    # Performing KNN for various K values\n",
    "    for k in k_list:\n",
    "        print(\"--------------------------------------------------------------\\n\")\n",
    "        print(\"K Value : \",k)\n",
    "        Accuracies = []\n",
    "        for i in range(len(subsets)):\n",
    "            #Split the part\n",
    "            X_train_part , X_test_part , Y_train_part , Y_test_p = train_test_split(subsets[i],Y,test_size = 0.2 , random_state = 42)\n",
    "            knn_part = KNeighborsClassifier(n_neighbors=k,metric='minkowski')\n",
    "            knn_part.fit(X_train_part,Y_train_part.values.ravel())\n",
    "            knn_part.predict(X_test_part)\n",
    "            print(\"Subset : \",i+1)\n",
    "            print(\"Accuracy : \",knn_part.score(X_test_part,Y_test_p))\n",
    "            Accuracies.append(knn_part.score(X_test_part,Y_test_p))\n",
    "        print(Accuracies)\n",
    "        ranges = [i+1 for i in range(len(subsets))]\n",
    "        plt.scatter(x = Accuracies , y = ranges)\n",
    "        plt.title(\"Accuracy v/s Subset\")\n",
    "        plt.xlabel(\"Accuracy Values\")\n",
    "        plt.ylabel(\"Subset_no\")\n",
    "        plt.show()\n",
    "        print(\"--------------------------------------------------------------\\n\")\n",
    "\n",
    "# For computing when a polling is taken between the crated subsets\n",
    "def split_subset_sum_computation(k_list,partLength,subsets):\n",
    "    # Performing KNN for various K values\n",
    "    for k in k_list:\n",
    "        print(\"--------------------------------------------------------------\\n\")\n",
    "        print(\"K Value : \",k)\n",
    "        predictions = []\n",
    "        # Going through all the part values and obtaining their values\n",
    "        for i in range(partLength):\n",
    "            #Split the part\n",
    "            X_train_part , X_test_part , Y_train_part , Y_test_p = train_test_split(subsets[i],Y,test_size = 0.2 , random_state = 42)\n",
    "            knn_part = KNeighborsClassifier(n_neighbors=k,metric='minkowski')\n",
    "            knn_part.fit(X_train_part,Y_train_part.values.ravel())\n",
    "            predi = knn_part.predict(X_test_part)\n",
    "            predictions.append(predi)\n",
    "    \n",
    "        # Finding out the final labels after polling \n",
    "        final_labels = []\n",
    "        # To find the poll for each instance \n",
    "        for i in range(len(predictions[0])):\n",
    "            poll = generatePoll(Y,subsets)\n",
    "            for pred in predictions:\n",
    "                labelObtained = pred[i][0]\n",
    "                poll[labelObtained]+=1\n",
    "        \n",
    "            #print(\"The poll for the instance \",i)\n",
    "            #print(poll)\n",
    "            labelFinal = max(poll, key=poll.get)\n",
    "            final_labels.append(labelFinal)\n",
    "        final_labels = pd.DataFrame(final_labels)\n",
    "        final_labels.columns = [\"Label\"]\n",
    "        print(\"The accuracy Score : \",accuracyScore(final_labels,Y_test))    \n",
    "        print(\"-------------------------------------\\n\") \n"
   ]
  },
  {
   "cell_type": "code",
   "execution_count": 424,
   "metadata": {},
   "outputs": [],
   "source": [
    "# Reading data \n",
    "sonar = pd.read_csv(\"sonar.csv\",header=None)\n"
   ]
  },
  {
   "cell_type": "code",
   "execution_count": 425,
   "metadata": {},
   "outputs": [
    {
     "name": "stdout",
     "output_type": "stream",
     "text": [
      "       0       1       2       3       4       5       6       7       8   \\\n",
      "0  0.0200  0.0371  0.0428  0.0207  0.0954  0.0986  0.1539  0.1601  0.3109   \n",
      "1  0.0453  0.0523  0.0843  0.0689  0.1183  0.2583  0.2156  0.3481  0.3337   \n",
      "2  0.0262  0.0582  0.1099  0.1083  0.0974  0.2280  0.2431  0.3771  0.5598   \n",
      "3  0.0100  0.0171  0.0623  0.0205  0.0205  0.0368  0.1098  0.1276  0.0598   \n",
      "4  0.0762  0.0666  0.0481  0.0394  0.0590  0.0649  0.1209  0.2467  0.3564   \n",
      "\n",
      "       9   ...      51      52      53      54      55      56      57  \\\n",
      "0  0.2111  ...  0.0027  0.0065  0.0159  0.0072  0.0167  0.0180  0.0084   \n",
      "1  0.2872  ...  0.0084  0.0089  0.0048  0.0094  0.0191  0.0140  0.0049   \n",
      "2  0.6194  ...  0.0232  0.0166  0.0095  0.0180  0.0244  0.0316  0.0164   \n",
      "3  0.1264  ...  0.0121  0.0036  0.0150  0.0085  0.0073  0.0050  0.0044   \n",
      "4  0.4459  ...  0.0031  0.0054  0.0105  0.0110  0.0015  0.0072  0.0048   \n",
      "\n",
      "       58      59  60  \n",
      "0  0.0090  0.0032   R  \n",
      "1  0.0052  0.0044   R  \n",
      "2  0.0095  0.0078   R  \n",
      "3  0.0040  0.0117   R  \n",
      "4  0.0107  0.0094   R  \n",
      "\n",
      "[5 rows x 61 columns]\n",
      "<class 'pandas.core.frame.DataFrame'>\n",
      "RangeIndex: 208 entries, 0 to 207\n",
      "Data columns (total 61 columns):\n",
      " #   Column  Non-Null Count  Dtype  \n",
      "---  ------  --------------  -----  \n",
      " 0   0       208 non-null    float64\n",
      " 1   1       208 non-null    float64\n",
      " 2   2       208 non-null    float64\n",
      " 3   3       208 non-null    float64\n",
      " 4   4       208 non-null    float64\n",
      " 5   5       208 non-null    float64\n",
      " 6   6       208 non-null    float64\n",
      " 7   7       208 non-null    float64\n",
      " 8   8       208 non-null    float64\n",
      " 9   9       208 non-null    float64\n",
      " 10  10      208 non-null    float64\n",
      " 11  11      208 non-null    float64\n",
      " 12  12      208 non-null    float64\n",
      " 13  13      208 non-null    float64\n",
      " 14  14      208 non-null    float64\n",
      " 15  15      208 non-null    float64\n",
      " 16  16      208 non-null    float64\n",
      " 17  17      208 non-null    float64\n",
      " 18  18      208 non-null    float64\n",
      " 19  19      208 non-null    float64\n",
      " 20  20      208 non-null    float64\n",
      " 21  21      208 non-null    float64\n",
      " 22  22      208 non-null    float64\n",
      " 23  23      208 non-null    float64\n",
      " 24  24      208 non-null    float64\n",
      " 25  25      208 non-null    float64\n",
      " 26  26      208 non-null    float64\n",
      " 27  27      208 non-null    float64\n",
      " 28  28      208 non-null    float64\n",
      " 29  29      208 non-null    float64\n",
      " 30  30      208 non-null    float64\n",
      " 31  31      208 non-null    float64\n",
      " 32  32      208 non-null    float64\n",
      " 33  33      208 non-null    float64\n",
      " 34  34      208 non-null    float64\n",
      " 35  35      208 non-null    float64\n",
      " 36  36      208 non-null    float64\n",
      " 37  37      208 non-null    float64\n",
      " 38  38      208 non-null    float64\n",
      " 39  39      208 non-null    float64\n",
      " 40  40      208 non-null    float64\n",
      " 41  41      208 non-null    float64\n",
      " 42  42      208 non-null    float64\n",
      " 43  43      208 non-null    float64\n",
      " 44  44      208 non-null    float64\n",
      " 45  45      208 non-null    float64\n",
      " 46  46      208 non-null    float64\n",
      " 47  47      208 non-null    float64\n",
      " 48  48      208 non-null    float64\n",
      " 49  49      208 non-null    float64\n",
      " 50  50      208 non-null    float64\n",
      " 51  51      208 non-null    float64\n",
      " 52  52      208 non-null    float64\n",
      " 53  53      208 non-null    float64\n",
      " 54  54      208 non-null    float64\n",
      " 55  55      208 non-null    float64\n",
      " 56  56      208 non-null    float64\n",
      " 57  57      208 non-null    float64\n",
      " 58  58      208 non-null    float64\n",
      " 59  59      208 non-null    float64\n",
      " 60  60      208 non-null    object \n",
      "dtypes: float64(60), object(1)\n",
      "memory usage: 99.2+ KB\n",
      "None\n"
     ]
    }
   ],
   "source": [
    "# To gain insights \n",
    "print(sonar.head())\n",
    "\n",
    "print(sonar.info())"
   ]
  },
  {
   "cell_type": "code",
   "execution_count": 426,
   "metadata": {},
   "outputs": [
    {
     "name": "stdout",
     "output_type": "stream",
     "text": [
      "Output\n",
      "(208, 1)\n",
      "Input\n",
      "(208, 60)\n"
     ]
    }
   ],
   "source": [
    "# For the output Class\n",
    "Y = sonar.iloc[:,60].to_frame()\n",
    "print(\"Output\")\n",
    "print(Y.shape)\n",
    "\n",
    "# Create boolean Value of presence \n",
    "presence = [ True for i in range(60)]\n",
    "presence.append(False)\n",
    "# Now create InputColumns \n",
    "Input_X = sonar.iloc[:,presence]\n",
    "print(\"Input\")\n",
    "print(Input_X.shape)"
   ]
  },
  {
   "cell_type": "code",
   "execution_count": 427,
   "metadata": {},
   "outputs": [],
   "source": [
    "# Create and Set Column names \n",
    "columnNamesForInput = [\"Attribute\"+str(i+1) for i in range(60) ]\n",
    "Input_X.columns = columnNamesForInput\n",
    "Y.columns = [\"Label\"]\n"
   ]
  },
  {
   "cell_type": "code",
   "execution_count": 428,
   "metadata": {},
   "outputs": [],
   "source": [
    "# Split the Data into test and train \n",
    "X_train , X_test , Y_train , Y_test = train_test_split(Input_X,Y,test_size = 0.2 , random_state = 42)"
   ]
  },
  {
   "cell_type": "code",
   "execution_count": 429,
   "metadata": {},
   "outputs": [
    {
     "name": "stdout",
     "output_type": "stream",
     "text": [
      "       Attribute1  Attribute2  Attribute3  Attribute4  Attribute5  Attribute6  \\\n",
      "count  166.000000  166.000000  166.000000  166.000000  166.000000  166.000000   \n",
      "mean     0.028272    0.036974    0.040744    0.051795    0.073952    0.104972   \n",
      "std      0.023029    0.029832    0.031562    0.037545    0.050569    0.058892   \n",
      "min      0.001500    0.000600    0.002400    0.005800    0.006700    0.010200   \n",
      "25%      0.012600    0.016350    0.018850    0.024775    0.037350    0.068400   \n",
      "50%      0.021900    0.030800    0.033150    0.044250    0.064550    0.092150   \n",
      "75%      0.034875    0.046750    0.053750    0.062700    0.101825    0.132675   \n",
      "max      0.137100    0.163200    0.199700    0.260400    0.322500    0.382300   \n",
      "\n",
      "       Attribute7  Attribute8  Attribute9  Attribute10  ...  Attribute51  \\\n",
      "count  166.000000  166.000000  166.000000   166.000000  ...   166.000000   \n",
      "mean     0.123003    0.138124    0.179770     0.207792  ...     0.016154   \n",
      "std      0.062238    0.085162    0.117145     0.135155  ...     0.012273   \n",
      "min      0.003300    0.005700    0.007500     0.011300  ...     0.000900   \n",
      "25%      0.083425    0.084000    0.097775     0.112675  ...     0.008675   \n",
      "50%      0.109050    0.117400    0.157000     0.184550  ...     0.013750   \n",
      "75%      0.152650    0.172600    0.232150     0.266600  ...     0.020875   \n",
      "max      0.372900    0.459000    0.682800     0.710600  ...     0.100400   \n",
      "\n",
      "       Attribute52  Attribute53  Attribute54  Attribute55  Attribute56  \\\n",
      "count   166.000000   166.000000   166.000000   166.000000   166.000000   \n",
      "mean      0.013083     0.010278     0.010739     0.009090     0.008028   \n",
      "std       0.009620     0.006595     0.007089     0.006829     0.004972   \n",
      "min       0.000800     0.000500     0.001000     0.000600     0.000400   \n",
      "25%       0.007225     0.005125     0.005500     0.003900     0.004600   \n",
      "50%       0.010800     0.009450     0.009300     0.007400     0.006950   \n",
      "75%       0.016475     0.013475     0.013775     0.012100     0.010100   \n",
      "max       0.070900     0.039000     0.034400     0.037600     0.027700   \n",
      "\n",
      "       Attribute57  Attribute58  Attribute59  Attribute60  \n",
      "count   166.000000   166.000000   166.000000   166.000000  \n",
      "mean      0.007593     0.007743     0.007601     0.006437  \n",
      "std       0.005461     0.005808     0.006010     0.005074  \n",
      "min       0.000300     0.000300     0.000100     0.000600  \n",
      "25%       0.003700     0.003600     0.003425     0.003000  \n",
      "50%       0.005850     0.005900     0.005950     0.005300  \n",
      "75%       0.010050     0.010275     0.009800     0.008675  \n",
      "max       0.031600     0.032100     0.036400     0.043900  \n",
      "\n",
      "[8 rows x 60 columns]\n"
     ]
    }
   ],
   "source": [
    "# To get some more insights into data \n",
    "print(X_train.describe())\n",
    "\n",
    "# We see that all the values are close enough\n",
    "#  so we decide to not go with normalization "
   ]
  },
  {
   "cell_type": "code",
   "execution_count": 430,
   "metadata": {},
   "outputs": [
    {
     "name": "stdout",
     "output_type": "stream",
     "text": [
      " K = 1 \n",
      "Accuracy :  0.8809523809523809\n"
     ]
    }
   ],
   "source": [
    "# KNN using library functions \n",
    "# For when k is 1 \n",
    "knn_1 = KNeighborsClassifier(n_neighbors=1,metric='minkowski')\n",
    "knn_1.fit(X_train,Y_train.values.ravel())\n",
    "knn_1.predict(X_test)\n",
    "print(\" K = 1 \")\n",
    "print(\"Accuracy : \",knn_1.score(X_test,Y_test))"
   ]
  },
  {
   "cell_type": "code",
   "execution_count": 431,
   "metadata": {},
   "outputs": [
    {
     "name": "stdout",
     "output_type": "stream",
     "text": [
      " K = 1 \n",
      "Accuracy Score :\n"
     ]
    },
    {
     "data": {
      "text/plain": [
       "0.8809523809523809"
      ]
     },
     "execution_count": 431,
     "metadata": {},
     "output_type": "execute_result"
    }
   ],
   "source": [
    "# Knn implementation for 1 NN without the use of inbuilt function\n",
    "# Function code is in the upper code blocks\n",
    "myKnn_1 = handmadeKnnClassifier(1)\n",
    "myKnn_1.fitData(X_train,Y_train)\n",
    "prediction = myKnn_1.predictData(X_test)\n",
    "print(\" K = 1 \")\n",
    "print(\"Accuracy Score :\")\n",
    "accuracyScore(prediction,Y_test)"
   ]
  },
  {
   "cell_type": "code",
   "execution_count": 432,
   "metadata": {},
   "outputs": [
    {
     "name": "stdout",
     "output_type": "stream",
     "text": [
      " K = 3 \n",
      "Accuracy :  0.8809523809523809\n"
     ]
    }
   ],
   "source": [
    "# KNN using library functions \n",
    "# For when k is 3 \n",
    "knn_3 = KNeighborsClassifier(n_neighbors=3,metric='minkowski')\n",
    "knn_3.fit(X_train,Y_train.values.ravel())\n",
    "knn_3.predict(X_test)\n",
    "print(\" K = 3 \")\n",
    "print(\"Accuracy : \",knn_3.score(X_test,Y_test))"
   ]
  },
  {
   "cell_type": "code",
   "execution_count": 433,
   "metadata": {},
   "outputs": [
    {
     "name": "stdout",
     "output_type": "stream",
     "text": [
      " K = 3 \n",
      "Accuracy Score :\n"
     ]
    },
    {
     "data": {
      "text/plain": [
       "0.8809523809523809"
      ]
     },
     "execution_count": 433,
     "metadata": {},
     "output_type": "execute_result"
    }
   ],
   "source": [
    "# Knn implementation for 3 NN without the use of inbuilt function\n",
    "# Function code is in the upper code blocks\n",
    "myKnn_3 = handmadeKnnClassifier(3)\n",
    "myKnn_3.fitData(X_train,Y_train)\n",
    "prediction = myKnn_3.predictData(X_test)\n",
    "print(\" K = 3 \")\n",
    "print(\"Accuracy Score :\")\n",
    "accuracyScore(prediction,Y_test)"
   ]
  },
  {
   "cell_type": "code",
   "execution_count": 434,
   "metadata": {},
   "outputs": [
    {
     "name": "stdout",
     "output_type": "stream",
     "text": [
      " K = 5 \n",
      "Accuracy :  0.8571428571428571\n"
     ]
    }
   ],
   "source": [
    "# KNN using library functions \n",
    "# For when k is 5 \n",
    "knn_5 = KNeighborsClassifier(n_neighbors=5,metric='minkowski')\n",
    "knn_5.fit(X_train,Y_train.values.ravel())\n",
    "knn_5.predict(X_test)\n",
    "print(\" K = 5 \")\n",
    "print(\"Accuracy : \",knn_5.score(X_test,Y_test))"
   ]
  },
  {
   "cell_type": "code",
   "execution_count": 435,
   "metadata": {},
   "outputs": [
    {
     "name": "stdout",
     "output_type": "stream",
     "text": [
      " K = 5 \n",
      "Accuracy Score :\n"
     ]
    },
    {
     "data": {
      "text/plain": [
       "0.8809523809523809"
      ]
     },
     "execution_count": 435,
     "metadata": {},
     "output_type": "execute_result"
    }
   ],
   "source": [
    "# Knn implementation for 5 NN without the use of inbuilt function\n",
    "# Function code is in the upper code blocks\n",
    "myKnn_5 = handmadeKnnClassifier(5)\n",
    "myKnn_5.fitData(X_train,Y_train)\n",
    "prediction = myKnn_5.predictData(X_test)\n",
    "print(\" K = 5 \")\n",
    "print(\"Accuracy Score :\")\n",
    "accuracyScore(prediction,Y_test)"
   ]
  },
  {
   "cell_type": "code",
   "execution_count": 436,
   "metadata": {},
   "outputs": [
    {
     "name": "stdout",
     "output_type": "stream",
     "text": [
      "K = 7 \n",
      "Accuracy :  0.8095238095238095\n"
     ]
    }
   ],
   "source": [
    "# KNN using library functions \n",
    "# For when k is 7 \n",
    "knn_7 = KNeighborsClassifier(n_neighbors=7,metric='minkowski')\n",
    "knn_7.fit(X_train,Y_train.values.ravel())\n",
    "knn_7.predict(X_test)\n",
    "print(\"K = 7 \")\n",
    "print(\"Accuracy : \",knn_7.score(X_test,Y_test))"
   ]
  },
  {
   "cell_type": "code",
   "execution_count": 437,
   "metadata": {},
   "outputs": [
    {
     "name": "stdout",
     "output_type": "stream",
     "text": [
      "K = 7 \n",
      "Accuracy Score :\n"
     ]
    },
    {
     "data": {
      "text/plain": [
       "0.8571428571428571"
      ]
     },
     "execution_count": 437,
     "metadata": {},
     "output_type": "execute_result"
    }
   ],
   "source": [
    "# Knn implementation for 7 NN without the use of inbuilt function\n",
    "# Function code is in the upper code blocks\n",
    "myKnn_7 = handmadeKnnClassifier(7)\n",
    "myKnn_7.fitData(X_train,Y_train)\n",
    "prediction = myKnn_7.predictData(X_test)\n",
    "print(\"K = 7 \")\n",
    "print(\"Accuracy Score :\")\n",
    "accuracyScore(prediction,Y_test)"
   ]
  },
  {
   "cell_type": "markdown",
   "metadata": {},
   "source": [
    "#### Now moving onto the 2nd part of the question i.e, dividing the data into 6 subsets with 10 features each \n",
    "2. Break the 60 features into 6 subsets having 10 features each. Perform the KNN and then compare the performance."
   ]
  },
  {
   "cell_type": "code",
   "execution_count": 438,
   "metadata": {},
   "outputs": [],
   "source": [
    "\n",
    "# Divide the attributes into 10 attributes and six subsets\n",
    "#All the subsets will be held in the below list \n",
    "subsets = []\n",
    "start = 0 \n",
    "end = 10 \n",
    "for i in range(6):\n",
    "    #Spitting the subsets\n",
    "    Input_Part = Input_X.iloc[:,start:end]\n",
    "    start = end\n",
    "    end = end+10\n",
    "    subsets.append(Input_Part)"
   ]
  },
  {
   "cell_type": "code",
   "execution_count": 439,
   "metadata": {},
   "outputs": [
    {
     "name": "stdout",
     "output_type": "stream",
     "text": [
      "--------------------------------------------------------------\n",
      "\n",
      "K Value :  1\n",
      "Subset :  1\n",
      "Accuracy :  0.6190476190476191\n",
      "Subset :  2\n",
      "Accuracy :  0.7857142857142857\n",
      "Subset :  3\n",
      "Accuracy :  0.7857142857142857\n",
      "Subset :  4\n",
      "Accuracy :  0.7619047619047619\n",
      "Subset :  5\n",
      "Accuracy :  0.6428571428571429\n",
      "Subset :  6\n",
      "Accuracy :  0.5476190476190477\n",
      "[0.6190476190476191, 0.7857142857142857, 0.7857142857142857, 0.7619047619047619, 0.6428571428571429, 0.5476190476190477]\n"
     ]
    },
    {
     "data": {
      "image/png": "[encoded data removed]",
      "text/plain": [
       "<Figure size 432x288 with 1 Axes>"
      ]
     },
     "metadata": {
      "needs_background": "light"
     },
     "output_type": "display_data"
    },
    {
     "name": "stdout",
     "output_type": "stream",
     "text": [
      "--------------------------------------------------------------\n",
      "\n",
      "--------------------------------------------------------------\n",
      "\n",
      "K Value :  3\n",
      "Subset :  1\n",
      "Accuracy :  0.7380952380952381\n",
      "Subset :  2\n",
      "Accuracy :  0.7857142857142857\n",
      "Subset :  3\n",
      "Accuracy :  0.8095238095238095\n",
      "Subset :  4\n",
      "Accuracy :  0.6904761904761905\n",
      "Subset :  5\n",
      "Accuracy :  0.5952380952380952\n",
      "Subset :  6\n",
      "Accuracy :  0.5952380952380952\n",
      "[0.7380952380952381, 0.7857142857142857, 0.8095238095238095, 0.6904761904761905, 0.5952380952380952, 0.5952380952380952]\n"
     ]
    },
    {
     "data": {
      "image/png": "[encoded data removed]",
      "text/plain": [
       "<Figure size 432x288 with 1 Axes>"
      ]
     },
     "metadata": {
      "needs_background": "light"
     },
     "output_type": "display_data"
    },
    {
     "name": "stdout",
     "output_type": "stream",
     "text": [
      "--------------------------------------------------------------\n",
      "\n",
      "--------------------------------------------------------------\n",
      "\n",
      "K Value :  5\n",
      "Subset :  1\n",
      "Accuracy :  0.8095238095238095\n",
      "Subset :  2\n",
      "Accuracy :  0.8095238095238095\n",
      "Subset :  3\n",
      "Accuracy :  0.8333333333333334\n",
      "Subset :  4\n",
      "Accuracy :  0.7142857142857143\n",
      "Subset :  5\n",
      "Accuracy :  0.6428571428571429\n",
      "Subset :  6\n",
      "Accuracy :  0.6190476190476191\n",
      "[0.8095238095238095, 0.8095238095238095, 0.8333333333333334, 0.7142857142857143, 0.6428571428571429, 0.6190476190476191]\n"
     ]
    },
    {
     "data": {
      "image/png": "[encoded data removed]",
      "text/plain": [
       "<Figure size 432x288 with 1 Axes>"
      ]
     },
     "metadata": {
      "needs_background": "light"
     },
     "output_type": "display_data"
    },
    {
     "name": "stdout",
     "output_type": "stream",
     "text": [
      "--------------------------------------------------------------\n",
      "\n",
      "--------------------------------------------------------------\n",
      "\n",
      "K Value :  7\n",
      "Subset :  1\n",
      "Accuracy :  0.8095238095238095\n",
      "Subset :  2\n",
      "Accuracy :  0.8095238095238095\n",
      "Subset :  3\n",
      "Accuracy :  0.7857142857142857\n",
      "Subset :  4\n",
      "Accuracy :  0.7380952380952381\n",
      "Subset :  5\n",
      "Accuracy :  0.5952380952380952\n",
      "Subset :  6\n",
      "Accuracy :  0.5952380952380952\n",
      "[0.8095238095238095, 0.8095238095238095, 0.7857142857142857, 0.7380952380952381, 0.5952380952380952, 0.5952380952380952]\n"
     ]
    },
    {
     "data": {
      "image/png": "[encoded data removed]",
      "text/plain": [
       "<Figure size 432x288 with 1 Axes>"
      ]
     },
     "metadata": {
      "needs_background": "light"
     },
     "output_type": "display_data"
    },
    {
     "name": "stdout",
     "output_type": "stream",
     "text": [
      "--------------------------------------------------------------\n",
      "\n"
     ]
    }
   ],
   "source": [
    "# for just the subset values independently \n",
    "k_list = [1,3,5,7]\n",
    "split_subset_computation(k_list,subsets)"
   ]
  },
  {
   "cell_type": "markdown",
   "metadata": {},
   "source": [
    "### For the third Question \n",
    "3. Divide them into 6 subsets and perform the classification on each subset. Then perform the majority voting for classification.\n",
    "We have already divided into 6 subsets"
   ]
  },
  {
   "cell_type": "code",
   "execution_count": 440,
   "metadata": {},
   "outputs": [
    {
     "name": "stdout",
     "output_type": "stream",
     "text": [
      "--------------------------------------------------------------\n",
      "\n",
      "K Value :  1\n",
      "The accuracy Score :  0.8333333333333334\n",
      "-------------------------------------\n",
      "\n",
      "--------------------------------------------------------------\n",
      "\n",
      "K Value :  3\n",
      "The accuracy Score :  0.8333333333333334\n",
      "-------------------------------------\n",
      "\n",
      "--------------------------------------------------------------\n",
      "\n",
      "K Value :  5\n",
      "The accuracy Score :  0.8809523809523809\n",
      "-------------------------------------\n",
      "\n",
      "--------------------------------------------------------------\n",
      "\n",
      "K Value :  7\n",
      "The accuracy Score :  0.8571428571428571\n",
      "-------------------------------------\n",
      "\n"
     ]
    }
   ],
   "source": [
    "# For polling between the 6 subsets \n",
    "# The function is defined at the top \n",
    "split_subset_sum_computation(k_list,len(subsets),subsets)"
   ]
  },
  {
   "cell_type": "markdown",
   "metadata": {},
   "source": [
    "#### Moving on to the 4th Question , where we have to divide into 5 different subsets"
   ]
  },
  {
   "cell_type": "code",
   "execution_count": 441,
   "metadata": {},
   "outputs": [],
   "source": [
    "\n",
    "# Divide the attributes into 12 attributes and 5 subsets\n",
    "#All the subsets will be held in the below list \n",
    "subsets = []\n",
    "start = 0 \n",
    "end = 12\n",
    "for i in range(5):\n",
    "    #Spitting the subsets\n",
    "    Input_Part = Input_X.iloc[:,start:end]\n",
    "    start = end\n",
    "    end = end+12\n",
    "    subsets.append(Input_Part)"
   ]
  },
  {
   "cell_type": "markdown",
   "metadata": {},
   "source": [
    "First Part of the 4th Question"
   ]
  },
  {
   "cell_type": "code",
   "execution_count": 442,
   "metadata": {},
   "outputs": [
    {
     "name": "stdout",
     "output_type": "stream",
     "text": [
      "--------------------------------------------------------------\n",
      "\n",
      "K Value :  1\n",
      "Subset :  1\n",
      "Accuracy :  0.7857142857142857\n",
      "Subset :  2\n",
      "Accuracy :  0.8571428571428571\n",
      "Subset :  3\n",
      "Accuracy :  0.6904761904761905\n",
      "Subset :  4\n",
      "Accuracy :  0.6904761904761905\n",
      "Subset :  5\n",
      "Accuracy :  0.5\n",
      "[0.7857142857142857, 0.8571428571428571, 0.6904761904761905, 0.6904761904761905, 0.5]\n"
     ]
    },
    {
     "data": {
      "image/png": "[encoded data removed]",
      "text/plain": [
       "<Figure size 432x288 with 1 Axes>"
      ]
     },
     "metadata": {
      "needs_background": "light"
     },
     "output_type": "display_data"
    },
    {
     "name": "stdout",
     "output_type": "stream",
     "text": [
      "--------------------------------------------------------------\n",
      "\n",
      "--------------------------------------------------------------\n",
      "\n",
      "K Value :  3\n",
      "Subset :  1\n",
      "Accuracy :  0.8095238095238095\n",
      "Subset :  2\n",
      "Accuracy :  0.7857142857142857\n",
      "Subset :  3\n",
      "Accuracy :  0.6904761904761905\n",
      "Subset :  4\n",
      "Accuracy :  0.6904761904761905\n",
      "Subset :  5\n",
      "Accuracy :  0.6428571428571429\n",
      "[0.8095238095238095, 0.7857142857142857, 0.6904761904761905, 0.6904761904761905, 0.6428571428571429]\n"
     ]
    },
    {
     "data": {
      "image/png": "[encoded data removed]",
      "text/plain": [
       "<Figure size 432x288 with 1 Axes>"
      ]
     },
     "metadata": {
      "needs_background": "light"
     },
     "output_type": "display_data"
    },
    {
     "name": "stdout",
     "output_type": "stream",
     "text": [
      "--------------------------------------------------------------\n",
      "\n",
      "--------------------------------------------------------------\n",
      "\n",
      "K Value :  5\n",
      "Subset :  1\n",
      "Accuracy :  0.7857142857142857\n",
      "Subset :  2\n",
      "Accuracy :  0.7619047619047619\n",
      "Subset :  3\n",
      "Accuracy :  0.7857142857142857\n",
      "Subset :  4\n",
      "Accuracy :  0.7142857142857143\n",
      "Subset :  5\n",
      "Accuracy :  0.6666666666666666\n",
      "[0.7857142857142857, 0.7619047619047619, 0.7857142857142857, 0.7142857142857143, 0.6666666666666666]\n"
     ]
    },
    {
     "data": {
      "image/png": "[encoded data removed]",
      "text/plain": [
       "<Figure size 432x288 with 1 Axes>"
      ]
     },
     "metadata": {
      "needs_background": "light"
     },
     "output_type": "display_data"
    },
    {
     "name": "stdout",
     "output_type": "stream",
     "text": [
      "--------------------------------------------------------------\n",
      "\n",
      "--------------------------------------------------------------\n",
      "\n",
      "K Value :  7\n",
      "Subset :  1\n",
      "Accuracy :  0.8095238095238095\n",
      "Subset :  2\n",
      "Accuracy :  0.7380952380952381\n",
      "Subset :  3\n",
      "Accuracy :  0.7619047619047619\n",
      "Subset :  4\n",
      "Accuracy :  0.6904761904761905\n",
      "Subset :  5\n",
      "Accuracy :  0.7619047619047619\n",
      "[0.8095238095238095, 0.7380952380952381, 0.7619047619047619, 0.6904761904761905, 0.7619047619047619]\n"
     ]
    },
    {
     "data": {
      "image/png": "[encoded data removed]",
      "text/plain": [
       "<Figure size 432x288 with 1 Axes>"
      ]
     },
     "metadata": {
      "needs_background": "light"
     },
     "output_type": "display_data"
    },
    {
     "name": "stdout",
     "output_type": "stream",
     "text": [
      "--------------------------------------------------------------\n",
      "\n"
     ]
    }
   ],
   "source": [
    "# for just the subset values independently \n",
    "k_list = [1,3,5,7]\n",
    "split_subset_computation(k_list,subsets)"
   ]
  },
  {
   "cell_type": "markdown",
   "metadata": {},
   "source": [
    "Second Part of the 4th Question "
   ]
  },
  {
   "cell_type": "code",
   "execution_count": 443,
   "metadata": {},
   "outputs": [
    {
     "name": "stdout",
     "output_type": "stream",
     "text": [
      "--------------------------------------------------------------\n",
      "\n",
      "K Value :  1\n",
      "The accuracy Score :  0.8095238095238095\n",
      "-------------------------------------\n",
      "\n",
      "--------------------------------------------------------------\n",
      "\n",
      "K Value :  3\n",
      "The accuracy Score :  0.8571428571428571\n",
      "-------------------------------------\n",
      "\n",
      "--------------------------------------------------------------\n",
      "\n",
      "K Value :  5\n",
      "The accuracy Score :  0.9047619047619048\n",
      "-------------------------------------\n",
      "\n",
      "--------------------------------------------------------------\n",
      "\n",
      "K Value :  7\n",
      "The accuracy Score :  0.8333333333333334\n",
      "-------------------------------------\n",
      "\n"
     ]
    }
   ],
   "source": [
    "# For polling between the 5 subsets \n",
    "split_subset_sum_computation(k_list,len(subsets),subsets)"
   ]
  },
  {
   "cell_type": "code",
   "execution_count": null,
   "metadata": {},
   "outputs": [],
   "source": []
  }
 ],
 "metadata": {
  "kernelspec": {
   "display_name": "Python 3.9.2 64-bit",
   "language": "python",
   "name": "python3"
  },
  "language_info": {
   "codemirror_mode": {
    "name": "ipython",
    "version": 3
   },
   "file_extension": ".py",
   "mimetype": "text/x-python",
   "name": "python",
   "nbconvert_exporter": "python",
   "pygments_lexer": "ipython3",
   "version": "3.9.2"
  },
  "orig_nbformat": 4,
  "vscode": {
   "interpreter": {
    "hash": "8c93b56f12893a73f3fb26b619faf35eb67f0f4410719b74190040acf104b72e"
   }
  }
 },
 "nbformat": 4,
 "nbformat_minor": 2
}
